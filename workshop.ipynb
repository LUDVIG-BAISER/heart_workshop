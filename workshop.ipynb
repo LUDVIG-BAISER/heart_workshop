{
 "cells": [
  {
   "cell_type": "markdown",
   "id": "e5565801-650c-4c78-9823-0f3aa5767e9d",
   "metadata": {},
   "source": [
    "# Вступление и описание работы"
   ]
  },
  {
   "cell_type": "markdown",
   "id": "81187ca2-3e38-46ab-b618-066cac72c3a1",
   "metadata": {},
   "source": [
    "## Импорт необходимых библиотек и объявление констант"
   ]
  },
  {
   "cell_type": "code",
   "execution_count": 3,
   "id": "ba530234-cf90-4d21-b5bc-f700baebbc5d",
   "metadata": {},
   "outputs": [
    {
     "name": "stdout",
     "output_type": "stream",
     "text": [
      "Note: you may need to restart the kernel to use updated packages.\n"
     ]
    }
   ],
   "source": [
    "pip install phik -q"
   ]
  },
  {
   "cell_type": "code",
   "execution_count": 4,
   "id": "03793158-b086-4ff3-a109-e9ba6bad0c28",
   "metadata": {},
   "outputs": [
    {
     "name": "stdout",
     "output_type": "stream",
     "text": [
      "Note: you may need to restart the kernel to use updated packages.\n"
     ]
    }
   ],
   "source": [
    "pip install Catboost -q"
   ]
  },
  {
   "cell_type": "code",
   "execution_count": 5,
   "id": "c3501c31-265b-4b8f-b637-2c15ba988c3c",
   "metadata": {
    "scrolled": true
   },
   "outputs": [],
   "source": [
    "import pandas as pd\n",
    "import numpy as np\n",
    "import matplotlib.pyplot as plt\n",
    "import seaborn as sns\n",
    "\n",
    "from sklearn.pipeline import Pipeline\n",
    "\n",
    "from sklearn.model_selection import (train_test_split,\n",
    "                                     RandomizedSearchCV,\n",
    "                                     GridSearchCV)\n",
    "\n",
    "\n",
    "from sklearn.preprocessing import (StandardScaler,   \n",
    "                                   OrdinalEncoder,\n",
    "                                   OneHotEncoder,\n",
    "                                    RobustScaler,\n",
    "                                    MinMaxScaler)\n",
    "\n",
    "\n",
    "from sklearn.compose import ColumnTransformer\n",
    "from sklearn.impute import SimpleImputer\n",
    "\n",
    "from sklearn.metrics import (make_scorer,\n",
    "                             roc_auc_score,\n",
    "                             f1_score,\n",
    "                             precision_score,\n",
    "                             accuracy_score,\n",
    "                             recall_score, \n",
    "                             classification_report, \n",
    "                             confusion_matrix,\n",
    "                             precision_recall_curve, \n",
    "                             average_precision_score)\n",
    "\n",
    "\n",
    "from sklearn.inspection import permutation_importance\n",
    "from xgboost import XGBClassifier\n",
    "\n",
    "import warnings\n",
    "warnings.filterwarnings(\"ignore\", category=FutureWarning)\n",
    "warnings.filterwarnings(\"ignore\", category=UserWarning)\n",
    "\n",
    "import scipy.stats as stats\n",
    "\n",
    "from catboost import CatBoostClassifier\n",
    "from sklearn.dummy import DummyClassifier\n",
    "\n",
    "from imblearn.over_sampling import SMOTE\n",
    "\n",
    "import os\n",
    "import phik\n",
    "import shap\n",
    "\n",
    "TEST_SIZE = 0.25\n",
    "RANDOM_STATE = 666\n"
   ]
  },
  {
   "cell_type": "code",
   "execution_count": null,
   "id": "48a0c9c7-6d64-4dd2-8c74-6713beeee9fd",
   "metadata": {},
   "outputs": [],
   "source": []
  },
  {
   "cell_type": "code",
   "execution_count": 6,
   "id": "1b1a4da3-1f5d-43e2-8364-550eb044f135",
   "metadata": {},
   "outputs": [],
   "source": [
    "pd.set_option('display.max_columns', None)\n",
    "pd.set_option('display.float_format','{:.4f}'.format)"
   ]
  },
  {
   "cell_type": "markdown",
   "id": "03e0edd9-b810-4a9d-8b38-57a5520b461c",
   "metadata": {},
   "source": [
    "# Загрузка данных и ознакомление с ними"
   ]
  },
  {
   "cell_type": "code",
   "execution_count": 7,
   "id": "9c25fc39-1eb1-4bfe-b0f1-5762f1a07b0d",
   "metadata": {},
   "outputs": [
    {
     "ename": "FileNotFoundError",
     "evalue": "[Errno 2] No such file or directory: 'heart_test.csv'",
     "output_type": "error",
     "traceback": [
      "\u001B[1;31m---------------------------------------------------------------------------\u001B[0m",
      "\u001B[1;31mFileNotFoundError\u001B[0m                         Traceback (most recent call last)",
      "Cell \u001B[1;32mIn[7], line 2\u001B[0m\n\u001B[0;32m      1\u001B[0m df_train \u001B[38;5;241m=\u001B[39m pd\u001B[38;5;241m.\u001B[39mread_csv(\u001B[38;5;124m'\u001B[39m\u001B[38;5;124mheart_train.csv\u001B[39m\u001B[38;5;124m'\u001B[39m)\n\u001B[1;32m----> 2\u001B[0m df_test \u001B[38;5;241m=\u001B[39m \u001B[43mpd\u001B[49m\u001B[38;5;241;43m.\u001B[39;49m\u001B[43mread_csv\u001B[49m\u001B[43m(\u001B[49m\u001B[38;5;124;43m'\u001B[39;49m\u001B[38;5;124;43mheart_test.csv\u001B[39;49m\u001B[38;5;124;43m'\u001B[39;49m\u001B[43m)\u001B[49m\n",
      "File \u001B[1;32m~\\AppData\\Local\\Programs\\Python\\Python312\\Lib\\site-packages\\pandas\\io\\parsers\\readers.py:1026\u001B[0m, in \u001B[0;36mread_csv\u001B[1;34m(filepath_or_buffer, sep, delimiter, header, names, index_col, usecols, dtype, engine, converters, true_values, false_values, skipinitialspace, skiprows, skipfooter, nrows, na_values, keep_default_na, na_filter, verbose, skip_blank_lines, parse_dates, infer_datetime_format, keep_date_col, date_parser, date_format, dayfirst, cache_dates, iterator, chunksize, compression, thousands, decimal, lineterminator, quotechar, quoting, doublequote, escapechar, comment, encoding, encoding_errors, dialect, on_bad_lines, delim_whitespace, low_memory, memory_map, float_precision, storage_options, dtype_backend)\u001B[0m\n\u001B[0;32m   1013\u001B[0m kwds_defaults \u001B[38;5;241m=\u001B[39m _refine_defaults_read(\n\u001B[0;32m   1014\u001B[0m     dialect,\n\u001B[0;32m   1015\u001B[0m     delimiter,\n\u001B[1;32m   (...)\u001B[0m\n\u001B[0;32m   1022\u001B[0m     dtype_backend\u001B[38;5;241m=\u001B[39mdtype_backend,\n\u001B[0;32m   1023\u001B[0m )\n\u001B[0;32m   1024\u001B[0m kwds\u001B[38;5;241m.\u001B[39mupdate(kwds_defaults)\n\u001B[1;32m-> 1026\u001B[0m \u001B[38;5;28;01mreturn\u001B[39;00m \u001B[43m_read\u001B[49m\u001B[43m(\u001B[49m\u001B[43mfilepath_or_buffer\u001B[49m\u001B[43m,\u001B[49m\u001B[43m \u001B[49m\u001B[43mkwds\u001B[49m\u001B[43m)\u001B[49m\n",
      "File \u001B[1;32m~\\AppData\\Local\\Programs\\Python\\Python312\\Lib\\site-packages\\pandas\\io\\parsers\\readers.py:620\u001B[0m, in \u001B[0;36m_read\u001B[1;34m(filepath_or_buffer, kwds)\u001B[0m\n\u001B[0;32m    617\u001B[0m _validate_names(kwds\u001B[38;5;241m.\u001B[39mget(\u001B[38;5;124m\"\u001B[39m\u001B[38;5;124mnames\u001B[39m\u001B[38;5;124m\"\u001B[39m, \u001B[38;5;28;01mNone\u001B[39;00m))\n\u001B[0;32m    619\u001B[0m \u001B[38;5;66;03m# Create the parser.\u001B[39;00m\n\u001B[1;32m--> 620\u001B[0m parser \u001B[38;5;241m=\u001B[39m \u001B[43mTextFileReader\u001B[49m\u001B[43m(\u001B[49m\u001B[43mfilepath_or_buffer\u001B[49m\u001B[43m,\u001B[49m\u001B[43m \u001B[49m\u001B[38;5;241;43m*\u001B[39;49m\u001B[38;5;241;43m*\u001B[39;49m\u001B[43mkwds\u001B[49m\u001B[43m)\u001B[49m\n\u001B[0;32m    622\u001B[0m \u001B[38;5;28;01mif\u001B[39;00m chunksize \u001B[38;5;129;01mor\u001B[39;00m iterator:\n\u001B[0;32m    623\u001B[0m     \u001B[38;5;28;01mreturn\u001B[39;00m parser\n",
      "File \u001B[1;32m~\\AppData\\Local\\Programs\\Python\\Python312\\Lib\\site-packages\\pandas\\io\\parsers\\readers.py:1620\u001B[0m, in \u001B[0;36mTextFileReader.__init__\u001B[1;34m(self, f, engine, **kwds)\u001B[0m\n\u001B[0;32m   1617\u001B[0m     \u001B[38;5;28mself\u001B[39m\u001B[38;5;241m.\u001B[39moptions[\u001B[38;5;124m\"\u001B[39m\u001B[38;5;124mhas_index_names\u001B[39m\u001B[38;5;124m\"\u001B[39m] \u001B[38;5;241m=\u001B[39m kwds[\u001B[38;5;124m\"\u001B[39m\u001B[38;5;124mhas_index_names\u001B[39m\u001B[38;5;124m\"\u001B[39m]\n\u001B[0;32m   1619\u001B[0m \u001B[38;5;28mself\u001B[39m\u001B[38;5;241m.\u001B[39mhandles: IOHandles \u001B[38;5;241m|\u001B[39m \u001B[38;5;28;01mNone\u001B[39;00m \u001B[38;5;241m=\u001B[39m \u001B[38;5;28;01mNone\u001B[39;00m\n\u001B[1;32m-> 1620\u001B[0m \u001B[38;5;28mself\u001B[39m\u001B[38;5;241m.\u001B[39m_engine \u001B[38;5;241m=\u001B[39m \u001B[38;5;28;43mself\u001B[39;49m\u001B[38;5;241;43m.\u001B[39;49m\u001B[43m_make_engine\u001B[49m\u001B[43m(\u001B[49m\u001B[43mf\u001B[49m\u001B[43m,\u001B[49m\u001B[43m \u001B[49m\u001B[38;5;28;43mself\u001B[39;49m\u001B[38;5;241;43m.\u001B[39;49m\u001B[43mengine\u001B[49m\u001B[43m)\u001B[49m\n",
      "File \u001B[1;32m~\\AppData\\Local\\Programs\\Python\\Python312\\Lib\\site-packages\\pandas\\io\\parsers\\readers.py:1880\u001B[0m, in \u001B[0;36mTextFileReader._make_engine\u001B[1;34m(self, f, engine)\u001B[0m\n\u001B[0;32m   1878\u001B[0m     \u001B[38;5;28;01mif\u001B[39;00m \u001B[38;5;124m\"\u001B[39m\u001B[38;5;124mb\u001B[39m\u001B[38;5;124m\"\u001B[39m \u001B[38;5;129;01mnot\u001B[39;00m \u001B[38;5;129;01min\u001B[39;00m mode:\n\u001B[0;32m   1879\u001B[0m         mode \u001B[38;5;241m+\u001B[39m\u001B[38;5;241m=\u001B[39m \u001B[38;5;124m\"\u001B[39m\u001B[38;5;124mb\u001B[39m\u001B[38;5;124m\"\u001B[39m\n\u001B[1;32m-> 1880\u001B[0m \u001B[38;5;28mself\u001B[39m\u001B[38;5;241m.\u001B[39mhandles \u001B[38;5;241m=\u001B[39m \u001B[43mget_handle\u001B[49m\u001B[43m(\u001B[49m\n\u001B[0;32m   1881\u001B[0m \u001B[43m    \u001B[49m\u001B[43mf\u001B[49m\u001B[43m,\u001B[49m\n\u001B[0;32m   1882\u001B[0m \u001B[43m    \u001B[49m\u001B[43mmode\u001B[49m\u001B[43m,\u001B[49m\n\u001B[0;32m   1883\u001B[0m \u001B[43m    \u001B[49m\u001B[43mencoding\u001B[49m\u001B[38;5;241;43m=\u001B[39;49m\u001B[38;5;28;43mself\u001B[39;49m\u001B[38;5;241;43m.\u001B[39;49m\u001B[43moptions\u001B[49m\u001B[38;5;241;43m.\u001B[39;49m\u001B[43mget\u001B[49m\u001B[43m(\u001B[49m\u001B[38;5;124;43m\"\u001B[39;49m\u001B[38;5;124;43mencoding\u001B[39;49m\u001B[38;5;124;43m\"\u001B[39;49m\u001B[43m,\u001B[49m\u001B[43m \u001B[49m\u001B[38;5;28;43;01mNone\u001B[39;49;00m\u001B[43m)\u001B[49m\u001B[43m,\u001B[49m\n\u001B[0;32m   1884\u001B[0m \u001B[43m    \u001B[49m\u001B[43mcompression\u001B[49m\u001B[38;5;241;43m=\u001B[39;49m\u001B[38;5;28;43mself\u001B[39;49m\u001B[38;5;241;43m.\u001B[39;49m\u001B[43moptions\u001B[49m\u001B[38;5;241;43m.\u001B[39;49m\u001B[43mget\u001B[49m\u001B[43m(\u001B[49m\u001B[38;5;124;43m\"\u001B[39;49m\u001B[38;5;124;43mcompression\u001B[39;49m\u001B[38;5;124;43m\"\u001B[39;49m\u001B[43m,\u001B[49m\u001B[43m \u001B[49m\u001B[38;5;28;43;01mNone\u001B[39;49;00m\u001B[43m)\u001B[49m\u001B[43m,\u001B[49m\n\u001B[0;32m   1885\u001B[0m \u001B[43m    \u001B[49m\u001B[43mmemory_map\u001B[49m\u001B[38;5;241;43m=\u001B[39;49m\u001B[38;5;28;43mself\u001B[39;49m\u001B[38;5;241;43m.\u001B[39;49m\u001B[43moptions\u001B[49m\u001B[38;5;241;43m.\u001B[39;49m\u001B[43mget\u001B[49m\u001B[43m(\u001B[49m\u001B[38;5;124;43m\"\u001B[39;49m\u001B[38;5;124;43mmemory_map\u001B[39;49m\u001B[38;5;124;43m\"\u001B[39;49m\u001B[43m,\u001B[49m\u001B[43m \u001B[49m\u001B[38;5;28;43;01mFalse\u001B[39;49;00m\u001B[43m)\u001B[49m\u001B[43m,\u001B[49m\n\u001B[0;32m   1886\u001B[0m \u001B[43m    \u001B[49m\u001B[43mis_text\u001B[49m\u001B[38;5;241;43m=\u001B[39;49m\u001B[43mis_text\u001B[49m\u001B[43m,\u001B[49m\n\u001B[0;32m   1887\u001B[0m \u001B[43m    \u001B[49m\u001B[43merrors\u001B[49m\u001B[38;5;241;43m=\u001B[39;49m\u001B[38;5;28;43mself\u001B[39;49m\u001B[38;5;241;43m.\u001B[39;49m\u001B[43moptions\u001B[49m\u001B[38;5;241;43m.\u001B[39;49m\u001B[43mget\u001B[49m\u001B[43m(\u001B[49m\u001B[38;5;124;43m\"\u001B[39;49m\u001B[38;5;124;43mencoding_errors\u001B[39;49m\u001B[38;5;124;43m\"\u001B[39;49m\u001B[43m,\u001B[49m\u001B[43m \u001B[49m\u001B[38;5;124;43m\"\u001B[39;49m\u001B[38;5;124;43mstrict\u001B[39;49m\u001B[38;5;124;43m\"\u001B[39;49m\u001B[43m)\u001B[49m\u001B[43m,\u001B[49m\n\u001B[0;32m   1888\u001B[0m \u001B[43m    \u001B[49m\u001B[43mstorage_options\u001B[49m\u001B[38;5;241;43m=\u001B[39;49m\u001B[38;5;28;43mself\u001B[39;49m\u001B[38;5;241;43m.\u001B[39;49m\u001B[43moptions\u001B[49m\u001B[38;5;241;43m.\u001B[39;49m\u001B[43mget\u001B[49m\u001B[43m(\u001B[49m\u001B[38;5;124;43m\"\u001B[39;49m\u001B[38;5;124;43mstorage_options\u001B[39;49m\u001B[38;5;124;43m\"\u001B[39;49m\u001B[43m,\u001B[49m\u001B[43m \u001B[49m\u001B[38;5;28;43;01mNone\u001B[39;49;00m\u001B[43m)\u001B[49m\u001B[43m,\u001B[49m\n\u001B[0;32m   1889\u001B[0m \u001B[43m\u001B[49m\u001B[43m)\u001B[49m\n\u001B[0;32m   1890\u001B[0m \u001B[38;5;28;01massert\u001B[39;00m \u001B[38;5;28mself\u001B[39m\u001B[38;5;241m.\u001B[39mhandles \u001B[38;5;129;01mis\u001B[39;00m \u001B[38;5;129;01mnot\u001B[39;00m \u001B[38;5;28;01mNone\u001B[39;00m\n\u001B[0;32m   1891\u001B[0m f \u001B[38;5;241m=\u001B[39m \u001B[38;5;28mself\u001B[39m\u001B[38;5;241m.\u001B[39mhandles\u001B[38;5;241m.\u001B[39mhandle\n",
      "File \u001B[1;32m~\\AppData\\Local\\Programs\\Python\\Python312\\Lib\\site-packages\\pandas\\io\\common.py:873\u001B[0m, in \u001B[0;36mget_handle\u001B[1;34m(path_or_buf, mode, encoding, compression, memory_map, is_text, errors, storage_options)\u001B[0m\n\u001B[0;32m    868\u001B[0m \u001B[38;5;28;01melif\u001B[39;00m \u001B[38;5;28misinstance\u001B[39m(handle, \u001B[38;5;28mstr\u001B[39m):\n\u001B[0;32m    869\u001B[0m     \u001B[38;5;66;03m# Check whether the filename is to be opened in binary mode.\u001B[39;00m\n\u001B[0;32m    870\u001B[0m     \u001B[38;5;66;03m# Binary mode does not support 'encoding' and 'newline'.\u001B[39;00m\n\u001B[0;32m    871\u001B[0m     \u001B[38;5;28;01mif\u001B[39;00m ioargs\u001B[38;5;241m.\u001B[39mencoding \u001B[38;5;129;01mand\u001B[39;00m \u001B[38;5;124m\"\u001B[39m\u001B[38;5;124mb\u001B[39m\u001B[38;5;124m\"\u001B[39m \u001B[38;5;129;01mnot\u001B[39;00m \u001B[38;5;129;01min\u001B[39;00m ioargs\u001B[38;5;241m.\u001B[39mmode:\n\u001B[0;32m    872\u001B[0m         \u001B[38;5;66;03m# Encoding\u001B[39;00m\n\u001B[1;32m--> 873\u001B[0m         handle \u001B[38;5;241m=\u001B[39m \u001B[38;5;28;43mopen\u001B[39;49m\u001B[43m(\u001B[49m\n\u001B[0;32m    874\u001B[0m \u001B[43m            \u001B[49m\u001B[43mhandle\u001B[49m\u001B[43m,\u001B[49m\n\u001B[0;32m    875\u001B[0m \u001B[43m            \u001B[49m\u001B[43mioargs\u001B[49m\u001B[38;5;241;43m.\u001B[39;49m\u001B[43mmode\u001B[49m\u001B[43m,\u001B[49m\n\u001B[0;32m    876\u001B[0m \u001B[43m            \u001B[49m\u001B[43mencoding\u001B[49m\u001B[38;5;241;43m=\u001B[39;49m\u001B[43mioargs\u001B[49m\u001B[38;5;241;43m.\u001B[39;49m\u001B[43mencoding\u001B[49m\u001B[43m,\u001B[49m\n\u001B[0;32m    877\u001B[0m \u001B[43m            \u001B[49m\u001B[43merrors\u001B[49m\u001B[38;5;241;43m=\u001B[39;49m\u001B[43merrors\u001B[49m\u001B[43m,\u001B[49m\n\u001B[0;32m    878\u001B[0m \u001B[43m            \u001B[49m\u001B[43mnewline\u001B[49m\u001B[38;5;241;43m=\u001B[39;49m\u001B[38;5;124;43m\"\u001B[39;49m\u001B[38;5;124;43m\"\u001B[39;49m\u001B[43m,\u001B[49m\n\u001B[0;32m    879\u001B[0m \u001B[43m        \u001B[49m\u001B[43m)\u001B[49m\n\u001B[0;32m    880\u001B[0m     \u001B[38;5;28;01melse\u001B[39;00m:\n\u001B[0;32m    881\u001B[0m         \u001B[38;5;66;03m# Binary mode\u001B[39;00m\n\u001B[0;32m    882\u001B[0m         handle \u001B[38;5;241m=\u001B[39m \u001B[38;5;28mopen\u001B[39m(handle, ioargs\u001B[38;5;241m.\u001B[39mmode)\n",
      "\u001B[1;31mFileNotFoundError\u001B[0m: [Errno 2] No such file or directory: 'heart_test.csv'"
     ]
    }
   ],
   "source": [
    "df_train = pd.read_csv('../../ML/workshop_1/heart_train.csv')\n",
    "df_test = pd.read_csv('heart_test.csv')"
   ]
  },
  {
   "cell_type": "code",
   "execution_count": null,
   "id": "212690ee-0a09-478c-acc1-2daec6e63288",
   "metadata": {},
   "outputs": [],
   "source": [
    "df_train.shape"
   ]
  },
  {
   "cell_type": "code",
   "execution_count": null,
   "id": "0f35c963-fd27-4823-8609-93dfc87aa8e2",
   "metadata": {},
   "outputs": [],
   "source": [
    "df_train.head()"
   ]
  },
  {
   "cell_type": "code",
   "execution_count": null,
   "id": "1ab082cc-43ce-4beb-a040-e2ff7313f8e4",
   "metadata": {},
   "outputs": [],
   "source": [
    "df_train.info()"
   ]
  },
  {
   "cell_type": "code",
   "execution_count": null,
   "id": "5d4bedd7-7c1c-4d64-b230-dd23f8c40e95",
   "metadata": {},
   "outputs": [],
   "source": [
    "df_train.describe()"
   ]
  },
  {
   "cell_type": "code",
   "execution_count": null,
   "id": "4f4b1bde-d050-4708-935d-20f6146edea2",
   "metadata": {},
   "outputs": [],
   "source": [
    "df_test.shape"
   ]
  },
  {
   "cell_type": "code",
   "execution_count": null,
   "id": "8e6e8980-b3d4-425d-a636-1db23a600599",
   "metadata": {},
   "outputs": [],
   "source": [
    "df_test.head()"
   ]
  },
  {
   "cell_type": "code",
   "execution_count": null,
   "id": "19405c4d-769a-47c6-bed8-202bdee53ae0",
   "metadata": {},
   "outputs": [],
   "source": [
    "df_test.info()"
   ]
  },
  {
   "cell_type": "code",
   "execution_count": null,
   "id": "11f99572-8509-4f02-8f4f-42b8b3cc7110",
   "metadata": {},
   "outputs": [],
   "source": [
    "df_train.duplicated().sum()"
   ]
  },
  {
   "cell_type": "code",
   "execution_count": null,
   "id": "94b8c964-9b12-4813-876a-98adcdf980a1",
   "metadata": {},
   "outputs": [],
   "source": [
    "df_test.duplicated().sum()"
   ]
  },
  {
   "cell_type": "markdown",
   "id": "f5e8c777-493e-46ce-aefd-ce13d79ed271",
   "metadata": {
    "jp-MarkdownHeadingCollapsed": true
   },
   "source": [
    "## Промежуточный вывод после ознакомления с данными:\n",
    "* Тренировочный набор данных имеет:\n",
    "    * 8685 записей\n",
    "    * 27 столбцов + целевой признак\n",
    "    * Присутствуют пропуски\n",
    "\n",
    "* Тестовый набор данных имеет:\n",
    "    * 966 записей\n",
    "    * 27 столбцов\n",
    "    * Присутствуют пропуски\n",
    "\n",
    "1) Часть данных нормализованы, это необходимо учесть в будущем.\n",
    "2) Признак \"Previous Heart Problems\", может являться утечкой целевого признака.\n",
    "3) Признак \"Income\" не является содержательным в контексте данного исследования"
   ]
  },
  {
   "cell_type": "markdown",
   "id": "ae1e6f13-d059-4af4-b423-678b55b7b4a8",
   "metadata": {},
   "source": [
    "# Предобработка данных "
   ]
  },
  {
   "cell_type": "markdown",
   "id": "3671d186-696c-4611-8ee9-594509c4e0e0",
   "metadata": {},
   "source": [
    "Ознакомимся с пропусками в данных"
   ]
  },
  {
   "cell_type": "code",
   "execution_count": null,
   "id": "db84f98d-ac04-480e-9054-ebbb02e386e8",
   "metadata": {},
   "outputs": [],
   "source": [
    "df_train.isna().sum()"
   ]
  },
  {
   "cell_type": "code",
   "execution_count": null,
   "id": "411fabec-5df5-4952-8646-49ed61ce56b5",
   "metadata": {},
   "outputs": [],
   "source": [
    "missing_vals = df_train.isnull().sum()\n",
    "missing_pct = (missing_vals / len(df_train)) * 100\n",
    "missing_df = pd.DataFrame({'Missing Values': missing_vals, 'Percentage': missing_pct})\n",
    "print(missing_df[missing_df['Missing Values'] > 0])\n",
    "\n",
    "plt.figure(figsize=(10, 6))\n",
    "sns.heatmap(df_train.isnull(), cbar=False, cmap='viridis')\n",
    "plt.title('Missing Values Heatmap')\n",
    "plt.show()"
   ]
  },
  {
   "cell_type": "code",
   "execution_count": null,
   "id": "88fad2f6-bc0a-42b4-9065-8633b2196d7b",
   "metadata": {},
   "outputs": [],
   "source": [
    "missing_rows_train = df_train[df_train.isnull().any(axis=1)]\n",
    "missing_rows_train\n"
   ]
  },
  {
   "cell_type": "code",
   "execution_count": null,
   "id": "8f4b6592-395a-4085-bd6a-35efa2db8c01",
   "metadata": {},
   "outputs": [],
   "source": [
    "len(missing_rows_train['id'].unique())"
   ]
  },
  {
   "cell_type": "markdown",
   "id": "4451cb76-c9f7-49eb-bbef-414b897854d5",
   "metadata": {},
   "source": [
    "Для 243 пациентов из тренировочной выборки не указана часть данных"
   ]
  },
  {
   "cell_type": "code",
   "execution_count": null,
   "id": "b66a3fa5-61f1-4a3d-b00c-536267627b58",
   "metadata": {},
   "outputs": [],
   "source": [
    "print(f'Пропущенные значения составляют {round(len(missing_rows_train) / len(df_train) * 100, 2)}% от тренировочного  датасета')"
   ]
  },
  {
   "cell_type": "code",
   "execution_count": null,
   "id": "b642c961-4fdd-49f6-8859-8f091544fe84",
   "metadata": {},
   "outputs": [],
   "source": [
    "missing_rows_test = df_test[df_test.isnull().any(axis=1)]"
   ]
  },
  {
   "cell_type": "code",
   "execution_count": null,
   "id": "aae71b87-3a5e-4131-826c-e007c23804f9",
   "metadata": {},
   "outputs": [],
   "source": [
    "len(missing_rows_test['id'].unique())"
   ]
  },
  {
   "cell_type": "code",
   "execution_count": null,
   "id": "20c797ac-d3dd-491f-8b30-60191eb08866",
   "metadata": {},
   "outputs": [],
   "source": [
    "print(f'Пропущенные значения составляют {round(len(missing_rows_test) / len(df_test) * 100, 2)}% от тестового датасета')"
   ]
  },
  {
   "cell_type": "code",
   "execution_count": null,
   "id": "ba3f664b-50ec-410e-8533-fbb62450efb5",
   "metadata": {},
   "outputs": [],
   "source": [
    "missing_columns_test = df_test.columns[df_test.isnull().any()]\n",
    "missing_columns_train = df_train.columns[df_train.isnull().any()]"
   ]
  },
  {
   "cell_type": "code",
   "execution_count": null,
   "id": "509baaf8-847e-48f4-8e90-e9c3a246681c",
   "metadata": {},
   "outputs": [],
   "source": [
    "missing_columns_test.isin(missing_columns_test).all()"
   ]
  },
  {
   "cell_type": "markdown",
   "id": "ad53609c-ee84-4cc5-83a0-6ceeca6faf97",
   "metadata": {},
   "source": [
    "в обоих датасетах пропуски в одних и тех же столбцах"
   ]
  },
  {
   "cell_type": "markdown",
   "id": "01a5b245-c6bb-4f21-ab61-902dc9320e77",
   "metadata": {},
   "source": [
    "***Количество пропусков составляет ~3% от общего объема данных, считаю, что их можно удалить. Так как восстановить медицинские данные пациентов проблематично.***"
   ]
  },
  {
   "cell_type": "code",
   "execution_count": null,
   "id": "e6f1b699-ae2b-497d-8db9-9dae763d24ee",
   "metadata": {},
   "outputs": [],
   "source": [
    "df_train = df_train.dropna()\n",
    "df_test = df_test.dropna()\n",
    "df_train = df_train.drop(columns=['Unnamed: 0', 'Previous Heart Problems', 'id'])\n",
    "df_test = df_test.drop(columns=['Unnamed: 0', 'Income'])"
   ]
  },
  {
   "cell_type": "code",
   "execution_count": null,
   "id": "b045226b-88fb-435e-adf6-1c66f373675b",
   "metadata": {},
   "outputs": [],
   "source": [
    "def prepare_df(df: pd.DataFrame) -> pd.DataFrame:\n",
    "    if 'Gender' in df.columns:\n",
    "        df['Gender'] = df['Gender'].map({\n",
    "            '1': 1,\n",
    "            'Male': 1,\n",
    "            '0': 0,\n",
    "            'Female': 0\n",
    "        }).astype(float)\n",
    "    return df\n",
    "\n",
    "            "
   ]
  },
  {
   "cell_type": "code",
   "execution_count": null,
   "id": "2906629d-2f24-4fe0-b07c-d6ccf01b0c10",
   "metadata": {},
   "outputs": [],
   "source": [
    "df_train = prepare_df(df_train)"
   ]
  },
  {
   "cell_type": "markdown",
   "id": "9b9c8d7a-b599-4ef9-9351-86f5d92ec6c3",
   "metadata": {},
   "source": [
    "**Чтобы продолжить исследование и не изменять исходный датасет, сделаем копию.**"
   ]
  },
  {
   "cell_type": "code",
   "execution_count": null,
   "id": "496e8ace-20ce-40d8-8f57-1daab86dca4a",
   "metadata": {},
   "outputs": [],
   "source": [
    "df_train['Gender'].isna().sum()"
   ]
  },
  {
   "cell_type": "code",
   "execution_count": null,
   "id": "dca269c9-8df7-4032-bbc3-2f0fb46b44cf",
   "metadata": {},
   "outputs": [],
   "source": []
  },
  {
   "cell_type": "code",
   "execution_count": null,
   "id": "65bbe569-2c3e-4ac2-89bf-292e4f85a925",
   "metadata": {},
   "outputs": [],
   "source": [
    "train_copy = df_train.copy()"
   ]
  },
  {
   "cell_type": "code",
   "execution_count": null,
   "id": "efc25e30-184c-4aa4-ba66-6401a60b101d",
   "metadata": {},
   "outputs": [],
   "source": [
    "print(train_copy['Gender'].unique())\n"
   ]
  },
  {
   "cell_type": "code",
   "execution_count": null,
   "id": "a042a6ad-4067-4b85-a375-8470e37c5aeb",
   "metadata": {},
   "outputs": [],
   "source": [
    "df_train.describe()"
   ]
  },
  {
   "cell_type": "code",
   "execution_count": null,
   "id": "916e420e-105f-4c0b-a66f-35f75d9795c1",
   "metadata": {},
   "outputs": [],
   "source": [
    "num_cols = [\n",
    "'Age', 'Cholesterol','Heart rate','Income', 'BMI', 'Triglycerides',\n",
    "'CK-MB', 'Blood sugar', 'Troponin', 'Systolic blood pressure',\n",
    "'Diastolic blood pressure', 'Physical Activity Days Per Week',\n",
    "'Sleep Hours Per Day', 'Exercise Hours Per Week',\n",
    "'Sedentary Hours Per Day'\n",
    "]"
   ]
  },
  {
   "cell_type": "code",
   "execution_count": null,
   "id": "8230bf2a-c8bd-4168-9e8f-fd7adfcd592e",
   "metadata": {},
   "outputs": [],
   "source": [
    "cat_cols = [col for col in df_train.columns if col not in num_cols]\n"
   ]
  },
  {
   "cell_type": "code",
   "execution_count": null,
   "id": "4c9c3b9f-153d-44ee-b0f5-f87d36111364",
   "metadata": {},
   "outputs": [],
   "source": [
    "def num_plot(data, col_list, target='Heart Attack Risk (Binary)'):\n",
    "    ncols = 2\n",
    "    nrows = int(np.ceil(len(col_list) / ncols))\n",
    "\n",
    "    fig, axes = plt.subplots(nrows, ncols, figsize=(18, 4 * nrows), facecolor='#F6F5F4')\n",
    "    axes = axes.flatten()\n",
    "\n",
    "    for ax, col in zip(axes, col_list):\n",
    "        sns.kdeplot(data=data, x=col, hue=target, ax=ax, multiple='stack', common_norm=False)\n",
    "        ax.set_title(f\"{col}\", fontsize=16)\n",
    "        ax.set_xlabel(col, fontsize=12)\n",
    "        ax.set_ylabel(\"Density\", fontsize=12)\n",
    "\n",
    "    for i in range(len(col_list), len(axes)):\n",
    "        axes[i].set_visible(False)\n",
    "\n",
    "    plt.tight_layout()\n",
    "    plt.suptitle('Distribution of Numerical Features', fontsize=20, y=1.02)\n",
    "    plt.show()\n"
   ]
  },
  {
   "cell_type": "code",
   "execution_count": null,
   "id": "3fab0a60-a0a0-4f06-aed7-6c060092bbfe",
   "metadata": {},
   "outputs": [],
   "source": [
    "def cat_plot(data, col_list, target='Heart Attack Risk (Binary)'):\n",
    "    ncols = 2\n",
    "    nrows = int(np.ceil(len(col_list) / ncols))\n",
    "    \n",
    "    fig, axes = plt.subplots(nrows, ncols, figsize=(18, 4 * nrows), facecolor='#F6F5F4')\n",
    "    axes = axes.flatten()\n",
    "\n",
    "    for ax, col in zip(axes, col_list):\n",
    "        sns.countplot(data=data, x=col, hue=target, ax=ax)\n",
    "        ax.set_title(f\"{col}\", fontsize=16)\n",
    "        ax.set_xlabel(col, fontsize=12)\n",
    "        ax.set_ylabel(\"Count\", fontsize=12)\n",
    "\n",
    "        for p in ax.patches:\n",
    "            height = p.get_height()\n",
    "            if height > 0:\n",
    "                ax.text(p.get_x() + p.get_width() / 2, height + 0.5,\n",
    "                        f'{int(height)}', ha='center', va='bottom', fontsize=9)\n",
    "\n",
    "\n",
    "    for i in range(len(col_list), len(axes)):\n",
    "        axes[i].set_visible(False)\n",
    "\n",
    "    plt.tight_layout()\n",
    "    plt.suptitle('Distribution of Categorical Features', fontsize=20, y=1.02)\n",
    "    plt.show()\n"
   ]
  },
  {
   "cell_type": "code",
   "execution_count": null,
   "id": "b2ab403b-9de3-4557-ba6a-21cbc3070d2b",
   "metadata": {},
   "outputs": [],
   "source": [
    "def scatter_plot(data, col_list, target='Heart Attack Risk (Binary)'):\n",
    "    ncols = 2\n",
    "    nrows = int(np.ceil(len(col_list) / ncols))\n",
    "\n",
    "    fig, axes = plt.subplots(nrows, ncols, figsize=(18, 4 * nrows), facecolor='#F6F5F4')\n",
    "    axes = axes.flatten()\n",
    "\n",
    "    for ax, col in zip(axes, col_list):\n",
    "        sns.scatterplot(x=data.index, y=data[col], hue=data[target], ax=ax, s=10, alpha=0.6)\n",
    "        ax.set_title(f\"{col}\", fontsize=16)\n",
    "        ax.set_xlabel(\"Индекс\", fontsize=12)\n",
    "        ax.set_ylabel(col, fontsize=12)\n",
    "\n",
    "    for i in range(len(col_list), len(axes)):\n",
    "        axes[i].set_visible(False)\n",
    "\n",
    "    plt.tight_layout()\n",
    "    plt.suptitle('Scatterplot числовых признаков', fontsize=20, y=1.02)\n",
    "    plt.show()\n"
   ]
  },
  {
   "cell_type": "code",
   "execution_count": null,
   "id": "efa393b1-17da-4e88-866d-463e2268d035",
   "metadata": {},
   "outputs": [],
   "source": [
    "cat_plot(df_train, cat_cols)"
   ]
  },
  {
   "cell_type": "code",
   "execution_count": null,
   "id": "9f52bb77-0e04-429e-b952-120e9fd3846b",
   "metadata": {},
   "outputs": [],
   "source": [
    "num_plot(df_train, num_cols)"
   ]
  },
  {
   "cell_type": "code",
   "execution_count": null,
   "id": "6e5bdb23-e72f-4811-be44-c38b5cff2fd2",
   "metadata": {},
   "outputs": [],
   "source": [
    "scatter_plot(df_train, num_cols)"
   ]
  },
  {
   "cell_type": "code",
   "execution_count": null,
   "id": "9120dbcc-6c8e-4faf-bbad-719ee76f1970",
   "metadata": {},
   "outputs": [],
   "source": [
    "\n",
    "INTERVAL_COLS = train_copy.select_dtypes(include='number')\n",
    "INTERVAL_COLS\n",
    "phik = train_copy.phik_matrix(interval_cols=INTERVAL_COLS)"
   ]
  },
  {
   "cell_type": "code",
   "execution_count": null,
   "id": "85211592-6a52-456f-95bb-be0d75627b43",
   "metadata": {},
   "outputs": [],
   "source": [
    "plt.figure(figsize=(17,15))\n",
    "mask = np.triu(np.ones_like(phik, dtype=bool))\n",
    "sns.heatmap(phik, annot=True, mask=mask, cmap='coolwarm')"
   ]
  },
  {
   "cell_type": "code",
   "execution_count": null,
   "id": "292fa9c0-0acb-4a40-907c-5aff291859a7",
   "metadata": {
    "scrolled": true
   },
   "outputs": [],
   "source": [
    "phik_pairs = (\n",
    "    phik\n",
    "    .where(~mask)  \n",
    "    .stack()  \n",
    "    .reset_index()\n",
    ")\n",
    "\n",
    "phik_pairs.columns = ['Признак 1', 'Признак 2', '$\\\\phi$ Корреляция']\n",
    "\n",
    "phik_pairs_sorted = phik_pairs.sort_values(by='$\\\\phi$ Корреляция', ascending=False)\n",
    "\n",
    "phik_pairs_sorted.head(10)"
   ]
  },
  {
   "cell_type": "code",
   "execution_count": 10,
   "id": "4129fbdb-df23-4d75-990a-b41c764adb30",
   "metadata": {},
   "outputs": [],
   "source": [
    "columns_to_drop = ['Heart Attack Risk (Binary)', 'Income', 'Smoking','Alcohol Consumption','Family History','Gender', 'Blood sugar']\n"
   ]
  },
  {
   "cell_type": "code",
   "execution_count": 11,
   "id": "e0a05b37-6e53-410f-8c57-441c949e33dc",
   "metadata": {},
   "outputs": [],
   "source": [
    "X = df_train.drop(columns=columns_to_drop)\n",
    "y = df_train['Heart Attack Risk (Binary)']"
   ]
  },
  {
   "cell_type": "code",
   "execution_count": 12,
   "id": "dcd8a63c-5d9a-46e5-8aff-c7ddddfd3c6f",
   "metadata": {},
   "outputs": [],
   "source": [
    "X_train, X_test, y_train, y_test = train_test_split(X,y, test_size=TEST_SIZE, random_state=RANDOM_STATE)"
   ]
  },
  {
   "cell_type": "code",
   "execution_count": 13,
   "id": "b0f79b05-30be-453b-8fdc-b2f5b567b6fd",
   "metadata": {},
   "outputs": [
    {
     "ename": "ValueError",
     "evalue": "Input X contains NaN.\nSMOTE does not accept missing values encoded as NaN natively. For supervised learning, you might want to consider sklearn.ensemble.HistGradientBoostingClassifier and Regressor which accept missing values encoded as NaNs natively. Alternatively, it is possible to preprocess the data, for instance by using an imputer transformer in a pipeline or drop samples with missing values. See https://scikit-learn.org/stable/modules/impute.html You can find a list of all estimators that handle NaN values at the following page: https://scikit-learn.org/stable/modules/impute.html#estimators-that-handle-nan-values",
     "output_type": "error",
     "traceback": [
      "\u001B[1;31m---------------------------------------------------------------------------\u001B[0m",
      "\u001B[1;31mValueError\u001B[0m                                Traceback (most recent call last)",
      "Cell \u001B[1;32mIn[13], line 2\u001B[0m\n\u001B[0;32m      1\u001B[0m smote \u001B[38;5;241m=\u001B[39m SMOTE(random_state\u001B[38;5;241m=\u001B[39m\u001B[38;5;241m42\u001B[39m)\n\u001B[1;32m----> 2\u001B[0m X_res, y_res \u001B[38;5;241m=\u001B[39m \u001B[43msmote\u001B[49m\u001B[38;5;241;43m.\u001B[39;49m\u001B[43mfit_resample\u001B[49m\u001B[43m(\u001B[49m\u001B[43mX_train\u001B[49m\u001B[43m,\u001B[49m\u001B[43m \u001B[49m\u001B[43my_train\u001B[49m\u001B[43m)\u001B[49m\n",
      "File \u001B[1;32m~\\AppData\\Local\\Programs\\Python\\Python312\\Lib\\site-packages\\imblearn\\base.py:202\u001B[0m, in \u001B[0;36mBaseSampler.fit_resample\u001B[1;34m(self, X, y, **params)\u001B[0m\n\u001B[0;32m    181\u001B[0m \u001B[38;5;28;01mdef\u001B[39;00m\u001B[38;5;250m \u001B[39m\u001B[38;5;21mfit_resample\u001B[39m(\u001B[38;5;28mself\u001B[39m, X, y, \u001B[38;5;241m*\u001B[39m\u001B[38;5;241m*\u001B[39mparams):\n\u001B[0;32m    182\u001B[0m \u001B[38;5;250m    \u001B[39m\u001B[38;5;124;03m\"\"\"Resample the dataset.\u001B[39;00m\n\u001B[0;32m    183\u001B[0m \n\u001B[0;32m    184\u001B[0m \u001B[38;5;124;03m    Parameters\u001B[39;00m\n\u001B[1;32m   (...)\u001B[0m\n\u001B[0;32m    200\u001B[0m \u001B[38;5;124;03m        The corresponding label of `X_resampled`.\u001B[39;00m\n\u001B[0;32m    201\u001B[0m \u001B[38;5;124;03m    \"\"\"\u001B[39;00m\n\u001B[1;32m--> 202\u001B[0m     \u001B[38;5;28;01mreturn\u001B[39;00m \u001B[38;5;28;43msuper\u001B[39;49m\u001B[43m(\u001B[49m\u001B[43m)\u001B[49m\u001B[38;5;241;43m.\u001B[39;49m\u001B[43mfit_resample\u001B[49m\u001B[43m(\u001B[49m\u001B[43mX\u001B[49m\u001B[43m,\u001B[49m\u001B[43m \u001B[49m\u001B[43my\u001B[49m\u001B[43m,\u001B[49m\u001B[43m \u001B[49m\u001B[38;5;241;43m*\u001B[39;49m\u001B[38;5;241;43m*\u001B[39;49m\u001B[43mparams\u001B[49m\u001B[43m)\u001B[49m\n",
      "File \u001B[1;32m~\\AppData\\Local\\Programs\\Python\\Python312\\Lib\\site-packages\\sklearn\\base.py:1389\u001B[0m, in \u001B[0;36m_fit_context.<locals>.decorator.<locals>.wrapper\u001B[1;34m(estimator, *args, **kwargs)\u001B[0m\n\u001B[0;32m   1382\u001B[0m     estimator\u001B[38;5;241m.\u001B[39m_validate_params()\n\u001B[0;32m   1384\u001B[0m \u001B[38;5;28;01mwith\u001B[39;00m config_context(\n\u001B[0;32m   1385\u001B[0m     skip_parameter_validation\u001B[38;5;241m=\u001B[39m(\n\u001B[0;32m   1386\u001B[0m         prefer_skip_nested_validation \u001B[38;5;129;01mor\u001B[39;00m global_skip_validation\n\u001B[0;32m   1387\u001B[0m     )\n\u001B[0;32m   1388\u001B[0m ):\n\u001B[1;32m-> 1389\u001B[0m     \u001B[38;5;28;01mreturn\u001B[39;00m \u001B[43mfit_method\u001B[49m\u001B[43m(\u001B[49m\u001B[43mestimator\u001B[49m\u001B[43m,\u001B[49m\u001B[43m \u001B[49m\u001B[38;5;241;43m*\u001B[39;49m\u001B[43margs\u001B[49m\u001B[43m,\u001B[49m\u001B[43m \u001B[49m\u001B[38;5;241;43m*\u001B[39;49m\u001B[38;5;241;43m*\u001B[39;49m\u001B[43mkwargs\u001B[49m\u001B[43m)\u001B[49m\n",
      "File \u001B[1;32m~\\AppData\\Local\\Programs\\Python\\Python312\\Lib\\site-packages\\imblearn\\base.py:99\u001B[0m, in \u001B[0;36mSamplerMixin.fit_resample\u001B[1;34m(self, X, y, **params)\u001B[0m\n\u001B[0;32m     97\u001B[0m check_classification_targets(y)\n\u001B[0;32m     98\u001B[0m arrays_transformer \u001B[38;5;241m=\u001B[39m ArraysTransformer(X, y)\n\u001B[1;32m---> 99\u001B[0m X, y, binarize_y \u001B[38;5;241m=\u001B[39m \u001B[38;5;28;43mself\u001B[39;49m\u001B[38;5;241;43m.\u001B[39;49m\u001B[43m_check_X_y\u001B[49m\u001B[43m(\u001B[49m\u001B[43mX\u001B[49m\u001B[43m,\u001B[49m\u001B[43m \u001B[49m\u001B[43my\u001B[49m\u001B[43m)\u001B[49m\n\u001B[0;32m    101\u001B[0m \u001B[38;5;28mself\u001B[39m\u001B[38;5;241m.\u001B[39msampling_strategy_ \u001B[38;5;241m=\u001B[39m check_sampling_strategy(\n\u001B[0;32m    102\u001B[0m     \u001B[38;5;28mself\u001B[39m\u001B[38;5;241m.\u001B[39msampling_strategy, y, \u001B[38;5;28mself\u001B[39m\u001B[38;5;241m.\u001B[39m_sampling_type\n\u001B[0;32m    103\u001B[0m )\n\u001B[0;32m    105\u001B[0m output \u001B[38;5;241m=\u001B[39m \u001B[38;5;28mself\u001B[39m\u001B[38;5;241m.\u001B[39m_fit_resample(X, y, \u001B[38;5;241m*\u001B[39m\u001B[38;5;241m*\u001B[39mparams)\n",
      "File \u001B[1;32m~\\AppData\\Local\\Programs\\Python\\Python312\\Lib\\site-packages\\imblearn\\base.py:157\u001B[0m, in \u001B[0;36mBaseSampler._check_X_y\u001B[1;34m(self, X, y, accept_sparse)\u001B[0m\n\u001B[0;32m    155\u001B[0m     accept_sparse \u001B[38;5;241m=\u001B[39m [\u001B[38;5;124m\"\u001B[39m\u001B[38;5;124mcsr\u001B[39m\u001B[38;5;124m\"\u001B[39m, \u001B[38;5;124m\"\u001B[39m\u001B[38;5;124mcsc\u001B[39m\u001B[38;5;124m\"\u001B[39m]\n\u001B[0;32m    156\u001B[0m y, binarize_y \u001B[38;5;241m=\u001B[39m check_target_type(y, indicate_one_vs_all\u001B[38;5;241m=\u001B[39m\u001B[38;5;28;01mTrue\u001B[39;00m)\n\u001B[1;32m--> 157\u001B[0m X, y \u001B[38;5;241m=\u001B[39m \u001B[43mvalidate_data\u001B[49m\u001B[43m(\u001B[49m\u001B[38;5;28;43mself\u001B[39;49m\u001B[43m,\u001B[49m\u001B[43m \u001B[49m\u001B[43mX\u001B[49m\u001B[38;5;241;43m=\u001B[39;49m\u001B[43mX\u001B[49m\u001B[43m,\u001B[49m\u001B[43m \u001B[49m\u001B[43my\u001B[49m\u001B[38;5;241;43m=\u001B[39;49m\u001B[43my\u001B[49m\u001B[43m,\u001B[49m\u001B[43m \u001B[49m\u001B[43mreset\u001B[49m\u001B[38;5;241;43m=\u001B[39;49m\u001B[38;5;28;43;01mTrue\u001B[39;49;00m\u001B[43m,\u001B[49m\u001B[43m \u001B[49m\u001B[43maccept_sparse\u001B[49m\u001B[38;5;241;43m=\u001B[39;49m\u001B[43maccept_sparse\u001B[49m\u001B[43m)\u001B[49m\n\u001B[0;32m    158\u001B[0m \u001B[38;5;28;01mreturn\u001B[39;00m X, y, binarize_y\n",
      "File \u001B[1;32m~\\AppData\\Local\\Programs\\Python\\Python312\\Lib\\site-packages\\sklearn\\utils\\validation.py:2961\u001B[0m, in \u001B[0;36mvalidate_data\u001B[1;34m(_estimator, X, y, reset, validate_separately, skip_check_array, **check_params)\u001B[0m\n\u001B[0;32m   2959\u001B[0m         y \u001B[38;5;241m=\u001B[39m check_array(y, input_name\u001B[38;5;241m=\u001B[39m\u001B[38;5;124m\"\u001B[39m\u001B[38;5;124my\u001B[39m\u001B[38;5;124m\"\u001B[39m, \u001B[38;5;241m*\u001B[39m\u001B[38;5;241m*\u001B[39mcheck_y_params)\n\u001B[0;32m   2960\u001B[0m     \u001B[38;5;28;01melse\u001B[39;00m:\n\u001B[1;32m-> 2961\u001B[0m         X, y \u001B[38;5;241m=\u001B[39m \u001B[43mcheck_X_y\u001B[49m\u001B[43m(\u001B[49m\u001B[43mX\u001B[49m\u001B[43m,\u001B[49m\u001B[43m \u001B[49m\u001B[43my\u001B[49m\u001B[43m,\u001B[49m\u001B[43m \u001B[49m\u001B[38;5;241;43m*\u001B[39;49m\u001B[38;5;241;43m*\u001B[39;49m\u001B[43mcheck_params\u001B[49m\u001B[43m)\u001B[49m\n\u001B[0;32m   2962\u001B[0m     out \u001B[38;5;241m=\u001B[39m X, y\n\u001B[0;32m   2964\u001B[0m \u001B[38;5;28;01mif\u001B[39;00m \u001B[38;5;129;01mnot\u001B[39;00m no_val_X \u001B[38;5;129;01mand\u001B[39;00m check_params\u001B[38;5;241m.\u001B[39mget(\u001B[38;5;124m\"\u001B[39m\u001B[38;5;124mensure_2d\u001B[39m\u001B[38;5;124m\"\u001B[39m, \u001B[38;5;28;01mTrue\u001B[39;00m):\n",
      "File \u001B[1;32m~\\AppData\\Local\\Programs\\Python\\Python312\\Lib\\site-packages\\sklearn\\utils\\validation.py:1370\u001B[0m, in \u001B[0;36mcheck_X_y\u001B[1;34m(X, y, accept_sparse, accept_large_sparse, dtype, order, copy, force_writeable, force_all_finite, ensure_all_finite, ensure_2d, allow_nd, multi_output, ensure_min_samples, ensure_min_features, y_numeric, estimator)\u001B[0m\n\u001B[0;32m   1364\u001B[0m     \u001B[38;5;28;01mraise\u001B[39;00m \u001B[38;5;167;01mValueError\u001B[39;00m(\n\u001B[0;32m   1365\u001B[0m         \u001B[38;5;124mf\u001B[39m\u001B[38;5;124m\"\u001B[39m\u001B[38;5;132;01m{\u001B[39;00mestimator_name\u001B[38;5;132;01m}\u001B[39;00m\u001B[38;5;124m requires y to be passed, but the target y is None\u001B[39m\u001B[38;5;124m\"\u001B[39m\n\u001B[0;32m   1366\u001B[0m     )\n\u001B[0;32m   1368\u001B[0m ensure_all_finite \u001B[38;5;241m=\u001B[39m _deprecate_force_all_finite(force_all_finite, ensure_all_finite)\n\u001B[1;32m-> 1370\u001B[0m X \u001B[38;5;241m=\u001B[39m \u001B[43mcheck_array\u001B[49m\u001B[43m(\u001B[49m\n\u001B[0;32m   1371\u001B[0m \u001B[43m    \u001B[49m\u001B[43mX\u001B[49m\u001B[43m,\u001B[49m\n\u001B[0;32m   1372\u001B[0m \u001B[43m    \u001B[49m\u001B[43maccept_sparse\u001B[49m\u001B[38;5;241;43m=\u001B[39;49m\u001B[43maccept_sparse\u001B[49m\u001B[43m,\u001B[49m\n\u001B[0;32m   1373\u001B[0m \u001B[43m    \u001B[49m\u001B[43maccept_large_sparse\u001B[49m\u001B[38;5;241;43m=\u001B[39;49m\u001B[43maccept_large_sparse\u001B[49m\u001B[43m,\u001B[49m\n\u001B[0;32m   1374\u001B[0m \u001B[43m    \u001B[49m\u001B[43mdtype\u001B[49m\u001B[38;5;241;43m=\u001B[39;49m\u001B[43mdtype\u001B[49m\u001B[43m,\u001B[49m\n\u001B[0;32m   1375\u001B[0m \u001B[43m    \u001B[49m\u001B[43morder\u001B[49m\u001B[38;5;241;43m=\u001B[39;49m\u001B[43morder\u001B[49m\u001B[43m,\u001B[49m\n\u001B[0;32m   1376\u001B[0m \u001B[43m    \u001B[49m\u001B[43mcopy\u001B[49m\u001B[38;5;241;43m=\u001B[39;49m\u001B[43mcopy\u001B[49m\u001B[43m,\u001B[49m\n\u001B[0;32m   1377\u001B[0m \u001B[43m    \u001B[49m\u001B[43mforce_writeable\u001B[49m\u001B[38;5;241;43m=\u001B[39;49m\u001B[43mforce_writeable\u001B[49m\u001B[43m,\u001B[49m\n\u001B[0;32m   1378\u001B[0m \u001B[43m    \u001B[49m\u001B[43mensure_all_finite\u001B[49m\u001B[38;5;241;43m=\u001B[39;49m\u001B[43mensure_all_finite\u001B[49m\u001B[43m,\u001B[49m\n\u001B[0;32m   1379\u001B[0m \u001B[43m    \u001B[49m\u001B[43mensure_2d\u001B[49m\u001B[38;5;241;43m=\u001B[39;49m\u001B[43mensure_2d\u001B[49m\u001B[43m,\u001B[49m\n\u001B[0;32m   1380\u001B[0m \u001B[43m    \u001B[49m\u001B[43mallow_nd\u001B[49m\u001B[38;5;241;43m=\u001B[39;49m\u001B[43mallow_nd\u001B[49m\u001B[43m,\u001B[49m\n\u001B[0;32m   1381\u001B[0m \u001B[43m    \u001B[49m\u001B[43mensure_min_samples\u001B[49m\u001B[38;5;241;43m=\u001B[39;49m\u001B[43mensure_min_samples\u001B[49m\u001B[43m,\u001B[49m\n\u001B[0;32m   1382\u001B[0m \u001B[43m    \u001B[49m\u001B[43mensure_min_features\u001B[49m\u001B[38;5;241;43m=\u001B[39;49m\u001B[43mensure_min_features\u001B[49m\u001B[43m,\u001B[49m\n\u001B[0;32m   1383\u001B[0m \u001B[43m    \u001B[49m\u001B[43mestimator\u001B[49m\u001B[38;5;241;43m=\u001B[39;49m\u001B[43mestimator\u001B[49m\u001B[43m,\u001B[49m\n\u001B[0;32m   1384\u001B[0m \u001B[43m    \u001B[49m\u001B[43minput_name\u001B[49m\u001B[38;5;241;43m=\u001B[39;49m\u001B[38;5;124;43m\"\u001B[39;49m\u001B[38;5;124;43mX\u001B[39;49m\u001B[38;5;124;43m\"\u001B[39;49m\u001B[43m,\u001B[49m\n\u001B[0;32m   1385\u001B[0m \u001B[43m\u001B[49m\u001B[43m)\u001B[49m\n\u001B[0;32m   1387\u001B[0m y \u001B[38;5;241m=\u001B[39m _check_y(y, multi_output\u001B[38;5;241m=\u001B[39mmulti_output, y_numeric\u001B[38;5;241m=\u001B[39my_numeric, estimator\u001B[38;5;241m=\u001B[39mestimator)\n\u001B[0;32m   1389\u001B[0m check_consistent_length(X, y)\n",
      "File \u001B[1;32m~\\AppData\\Local\\Programs\\Python\\Python312\\Lib\\site-packages\\sklearn\\utils\\validation.py:1107\u001B[0m, in \u001B[0;36mcheck_array\u001B[1;34m(array, accept_sparse, accept_large_sparse, dtype, order, copy, force_writeable, force_all_finite, ensure_all_finite, ensure_non_negative, ensure_2d, allow_nd, ensure_min_samples, ensure_min_features, estimator, input_name)\u001B[0m\n\u001B[0;32m   1101\u001B[0m     \u001B[38;5;28;01mraise\u001B[39;00m \u001B[38;5;167;01mValueError\u001B[39;00m(\n\u001B[0;32m   1102\u001B[0m         \u001B[38;5;124m\"\u001B[39m\u001B[38;5;124mFound array with dim \u001B[39m\u001B[38;5;132;01m%d\u001B[39;00m\u001B[38;5;124m. \u001B[39m\u001B[38;5;132;01m%s\u001B[39;00m\u001B[38;5;124m expected <= 2.\u001B[39m\u001B[38;5;124m\"\u001B[39m\n\u001B[0;32m   1103\u001B[0m         \u001B[38;5;241m%\u001B[39m (array\u001B[38;5;241m.\u001B[39mndim, estimator_name)\n\u001B[0;32m   1104\u001B[0m     )\n\u001B[0;32m   1106\u001B[0m \u001B[38;5;28;01mif\u001B[39;00m ensure_all_finite:\n\u001B[1;32m-> 1107\u001B[0m     \u001B[43m_assert_all_finite\u001B[49m\u001B[43m(\u001B[49m\n\u001B[0;32m   1108\u001B[0m \u001B[43m        \u001B[49m\u001B[43marray\u001B[49m\u001B[43m,\u001B[49m\n\u001B[0;32m   1109\u001B[0m \u001B[43m        \u001B[49m\u001B[43minput_name\u001B[49m\u001B[38;5;241;43m=\u001B[39;49m\u001B[43minput_name\u001B[49m\u001B[43m,\u001B[49m\n\u001B[0;32m   1110\u001B[0m \u001B[43m        \u001B[49m\u001B[43mestimator_name\u001B[49m\u001B[38;5;241;43m=\u001B[39;49m\u001B[43mestimator_name\u001B[49m\u001B[43m,\u001B[49m\n\u001B[0;32m   1111\u001B[0m \u001B[43m        \u001B[49m\u001B[43mallow_nan\u001B[49m\u001B[38;5;241;43m=\u001B[39;49m\u001B[43mensure_all_finite\u001B[49m\u001B[43m \u001B[49m\u001B[38;5;241;43m==\u001B[39;49m\u001B[43m \u001B[49m\u001B[38;5;124;43m\"\u001B[39;49m\u001B[38;5;124;43mallow-nan\u001B[39;49m\u001B[38;5;124;43m\"\u001B[39;49m\u001B[43m,\u001B[49m\n\u001B[0;32m   1112\u001B[0m \u001B[43m    \u001B[49m\u001B[43m)\u001B[49m\n\u001B[0;32m   1114\u001B[0m \u001B[38;5;28;01mif\u001B[39;00m copy:\n\u001B[0;32m   1115\u001B[0m     \u001B[38;5;28;01mif\u001B[39;00m _is_numpy_namespace(xp):\n\u001B[0;32m   1116\u001B[0m         \u001B[38;5;66;03m# only make a copy if `array` and `array_orig` may share memory`\u001B[39;00m\n",
      "File \u001B[1;32m~\\AppData\\Local\\Programs\\Python\\Python312\\Lib\\site-packages\\sklearn\\utils\\validation.py:120\u001B[0m, in \u001B[0;36m_assert_all_finite\u001B[1;34m(X, allow_nan, msg_dtype, estimator_name, input_name)\u001B[0m\n\u001B[0;32m    117\u001B[0m \u001B[38;5;28;01mif\u001B[39;00m first_pass_isfinite:\n\u001B[0;32m    118\u001B[0m     \u001B[38;5;28;01mreturn\u001B[39;00m\n\u001B[1;32m--> 120\u001B[0m \u001B[43m_assert_all_finite_element_wise\u001B[49m\u001B[43m(\u001B[49m\n\u001B[0;32m    121\u001B[0m \u001B[43m    \u001B[49m\u001B[43mX\u001B[49m\u001B[43m,\u001B[49m\n\u001B[0;32m    122\u001B[0m \u001B[43m    \u001B[49m\u001B[43mxp\u001B[49m\u001B[38;5;241;43m=\u001B[39;49m\u001B[43mxp\u001B[49m\u001B[43m,\u001B[49m\n\u001B[0;32m    123\u001B[0m \u001B[43m    \u001B[49m\u001B[43mallow_nan\u001B[49m\u001B[38;5;241;43m=\u001B[39;49m\u001B[43mallow_nan\u001B[49m\u001B[43m,\u001B[49m\n\u001B[0;32m    124\u001B[0m \u001B[43m    \u001B[49m\u001B[43mmsg_dtype\u001B[49m\u001B[38;5;241;43m=\u001B[39;49m\u001B[43mmsg_dtype\u001B[49m\u001B[43m,\u001B[49m\n\u001B[0;32m    125\u001B[0m \u001B[43m    \u001B[49m\u001B[43mestimator_name\u001B[49m\u001B[38;5;241;43m=\u001B[39;49m\u001B[43mestimator_name\u001B[49m\u001B[43m,\u001B[49m\n\u001B[0;32m    126\u001B[0m \u001B[43m    \u001B[49m\u001B[43minput_name\u001B[49m\u001B[38;5;241;43m=\u001B[39;49m\u001B[43minput_name\u001B[49m\u001B[43m,\u001B[49m\n\u001B[0;32m    127\u001B[0m \u001B[43m\u001B[49m\u001B[43m)\u001B[49m\n",
      "File \u001B[1;32m~\\AppData\\Local\\Programs\\Python\\Python312\\Lib\\site-packages\\sklearn\\utils\\validation.py:169\u001B[0m, in \u001B[0;36m_assert_all_finite_element_wise\u001B[1;34m(X, xp, allow_nan, msg_dtype, estimator_name, input_name)\u001B[0m\n\u001B[0;32m    152\u001B[0m \u001B[38;5;28;01mif\u001B[39;00m estimator_name \u001B[38;5;129;01mand\u001B[39;00m input_name \u001B[38;5;241m==\u001B[39m \u001B[38;5;124m\"\u001B[39m\u001B[38;5;124mX\u001B[39m\u001B[38;5;124m\"\u001B[39m \u001B[38;5;129;01mand\u001B[39;00m has_nan_error:\n\u001B[0;32m    153\u001B[0m     \u001B[38;5;66;03m# Improve the error message on how to handle missing values in\u001B[39;00m\n\u001B[0;32m    154\u001B[0m     \u001B[38;5;66;03m# scikit-learn.\u001B[39;00m\n\u001B[0;32m    155\u001B[0m     msg_err \u001B[38;5;241m+\u001B[39m\u001B[38;5;241m=\u001B[39m (\n\u001B[0;32m    156\u001B[0m         \u001B[38;5;124mf\u001B[39m\u001B[38;5;124m\"\u001B[39m\u001B[38;5;130;01m\\n\u001B[39;00m\u001B[38;5;132;01m{\u001B[39;00mestimator_name\u001B[38;5;132;01m}\u001B[39;00m\u001B[38;5;124m does not accept missing values\u001B[39m\u001B[38;5;124m\"\u001B[39m\n\u001B[0;32m    157\u001B[0m         \u001B[38;5;124m\"\u001B[39m\u001B[38;5;124m encoded as NaN natively. For supervised learning, you might want\u001B[39m\u001B[38;5;124m\"\u001B[39m\n\u001B[1;32m   (...)\u001B[0m\n\u001B[0;32m    167\u001B[0m         \u001B[38;5;124m\"\u001B[39m\u001B[38;5;124m#estimators-that-handle-nan-values\u001B[39m\u001B[38;5;124m\"\u001B[39m\n\u001B[0;32m    168\u001B[0m     )\n\u001B[1;32m--> 169\u001B[0m \u001B[38;5;28;01mraise\u001B[39;00m \u001B[38;5;167;01mValueError\u001B[39;00m(msg_err)\n",
      "\u001B[1;31mValueError\u001B[0m: Input X contains NaN.\nSMOTE does not accept missing values encoded as NaN natively. For supervised learning, you might want to consider sklearn.ensemble.HistGradientBoostingClassifier and Regressor which accept missing values encoded as NaNs natively. Alternatively, it is possible to preprocess the data, for instance by using an imputer transformer in a pipeline or drop samples with missing values. See https://scikit-learn.org/stable/modules/impute.html You can find a list of all estimators that handle NaN values at the following page: https://scikit-learn.org/stable/modules/impute.html#estimators-that-handle-nan-values"
     ]
    }
   ],
   "source": [
    "smote = SMOTE(random_state=42)\n",
    "X_res, y_res = smote.fit_resample(X_train, y_train)\n"
   ]
  },
  {
   "cell_type": "code",
   "execution_count": 14,
   "id": "4d936742-8b2a-4650-a7a6-0dbd955be76b",
   "metadata": {
    "scrolled": true
   },
   "outputs": [
    {
     "data": {
      "text/html": [
       "<div>\n",
       "<style scoped>\n",
       "    .dataframe tbody tr th:only-of-type {\n",
       "        vertical-align: middle;\n",
       "    }\n",
       "\n",
       "    .dataframe tbody tr th {\n",
       "        vertical-align: top;\n",
       "    }\n",
       "\n",
       "    .dataframe thead th {\n",
       "        text-align: right;\n",
       "    }\n",
       "</style>\n",
       "<table border=\"1\" class=\"dataframe\">\n",
       "  <thead>\n",
       "    <tr style=\"text-align: right;\">\n",
       "      <th></th>\n",
       "      <th>Unnamed: 0</th>\n",
       "      <th>Age</th>\n",
       "      <th>Cholesterol</th>\n",
       "      <th>Heart rate</th>\n",
       "      <th>Diabetes</th>\n",
       "      <th>Obesity</th>\n",
       "      <th>Exercise Hours Per Week</th>\n",
       "      <th>Diet</th>\n",
       "      <th>Previous Heart Problems</th>\n",
       "      <th>Medication Use</th>\n",
       "      <th>Stress Level</th>\n",
       "      <th>Sedentary Hours Per Day</th>\n",
       "      <th>BMI</th>\n",
       "      <th>Triglycerides</th>\n",
       "      <th>Physical Activity Days Per Week</th>\n",
       "      <th>Sleep Hours Per Day</th>\n",
       "      <th>CK-MB</th>\n",
       "      <th>Troponin</th>\n",
       "      <th>Systolic blood pressure</th>\n",
       "      <th>Diastolic blood pressure</th>\n",
       "      <th>id</th>\n",
       "    </tr>\n",
       "  </thead>\n",
       "  <tbody>\n",
       "    <tr>\n",
       "      <th>3145</th>\n",
       "      <td>3145</td>\n",
       "      <td>0.8315</td>\n",
       "      <td>0.3714</td>\n",
       "      <td>0.0742</td>\n",
       "      <td>1.0000</td>\n",
       "      <td>0.0000</td>\n",
       "      <td>0.5180</td>\n",
       "      <td>2</td>\n",
       "      <td>1.0000</td>\n",
       "      <td>0.0000</td>\n",
       "      <td>7.0000</td>\n",
       "      <td>0.5011</td>\n",
       "      <td>0.5198</td>\n",
       "      <td>0.9442</td>\n",
       "      <td>0.0000</td>\n",
       "      <td>0.8333</td>\n",
       "      <td>0.0482</td>\n",
       "      <td>0.0365</td>\n",
       "      <td>0.6323</td>\n",
       "      <td>0.5465</td>\n",
       "      <td>6496</td>\n",
       "    </tr>\n",
       "    <tr>\n",
       "      <th>6897</th>\n",
       "      <td>6897</td>\n",
       "      <td>0.6067</td>\n",
       "      <td>0.3571</td>\n",
       "      <td>0.0192</td>\n",
       "      <td>0.0000</td>\n",
       "      <td>0.0000</td>\n",
       "      <td>0.9669</td>\n",
       "      <td>2</td>\n",
       "      <td>0.0000</td>\n",
       "      <td>0.0000</td>\n",
       "      <td>2.0000</td>\n",
       "      <td>0.0419</td>\n",
       "      <td>0.7812</td>\n",
       "      <td>0.3688</td>\n",
       "      <td>0.0000</td>\n",
       "      <td>0.0000</td>\n",
       "      <td>0.0482</td>\n",
       "      <td>0.0365</td>\n",
       "      <td>0.5806</td>\n",
       "      <td>0.3256</td>\n",
       "      <td>7621</td>\n",
       "    </tr>\n",
       "    <tr>\n",
       "      <th>8168</th>\n",
       "      <td>8168</td>\n",
       "      <td>0.6517</td>\n",
       "      <td>0.5857</td>\n",
       "      <td>0.0431</td>\n",
       "      <td>0.0000</td>\n",
       "      <td>1.0000</td>\n",
       "      <td>0.6258</td>\n",
       "      <td>2</td>\n",
       "      <td>0.0000</td>\n",
       "      <td>1.0000</td>\n",
       "      <td>7.0000</td>\n",
       "      <td>0.4628</td>\n",
       "      <td>0.3429</td>\n",
       "      <td>0.6325</td>\n",
       "      <td>5.0000</td>\n",
       "      <td>0.8333</td>\n",
       "      <td>0.0130</td>\n",
       "      <td>0.0097</td>\n",
       "      <td>0.7097</td>\n",
       "      <td>0.3605</td>\n",
       "      <td>4846</td>\n",
       "    </tr>\n",
       "    <tr>\n",
       "      <th>3356</th>\n",
       "      <td>3356</td>\n",
       "      <td>0.2921</td>\n",
       "      <td>0.5893</td>\n",
       "      <td>0.0642</td>\n",
       "      <td>1.0000</td>\n",
       "      <td>0.0000</td>\n",
       "      <td>0.0625</td>\n",
       "      <td>2</td>\n",
       "      <td>0.0000</td>\n",
       "      <td>0.0000</td>\n",
       "      <td>10.0000</td>\n",
       "      <td>0.1766</td>\n",
       "      <td>0.4699</td>\n",
       "      <td>0.4571</td>\n",
       "      <td>4.0000</td>\n",
       "      <td>0.0000</td>\n",
       "      <td>0.0083</td>\n",
       "      <td>0.0002</td>\n",
       "      <td>0.7355</td>\n",
       "      <td>0.4302</td>\n",
       "      <td>2397</td>\n",
       "    </tr>\n",
       "    <tr>\n",
       "      <th>2164</th>\n",
       "      <td>2164</td>\n",
       "      <td>0.4045</td>\n",
       "      <td>0.2607</td>\n",
       "      <td>0.0486</td>\n",
       "      <td>0.0000</td>\n",
       "      <td>1.0000</td>\n",
       "      <td>0.1108</td>\n",
       "      <td>2</td>\n",
       "      <td>0.0000</td>\n",
       "      <td>0.0000</td>\n",
       "      <td>8.0000</td>\n",
       "      <td>0.8077</td>\n",
       "      <td>0.2744</td>\n",
       "      <td>0.0065</td>\n",
       "      <td>6.0000</td>\n",
       "      <td>0.6667</td>\n",
       "      <td>0.1344</td>\n",
       "      <td>0.0962</td>\n",
       "      <td>0.6000</td>\n",
       "      <td>0.5233</td>\n",
       "      <td>561</td>\n",
       "    </tr>\n",
       "  </tbody>\n",
       "</table>\n",
       "</div>"
      ],
      "text/plain": [
       "      Unnamed: 0    Age  Cholesterol  Heart rate  Diabetes  Obesity  \\\n",
       "3145        3145 0.8315       0.3714      0.0742    1.0000   0.0000   \n",
       "6897        6897 0.6067       0.3571      0.0192    0.0000   0.0000   \n",
       "8168        8168 0.6517       0.5857      0.0431    0.0000   1.0000   \n",
       "3356        3356 0.2921       0.5893      0.0642    1.0000   0.0000   \n",
       "2164        2164 0.4045       0.2607      0.0486    0.0000   1.0000   \n",
       "\n",
       "      Exercise Hours Per Week  Diet  Previous Heart Problems  Medication Use  \\\n",
       "3145                   0.5180     2                   1.0000          0.0000   \n",
       "6897                   0.9669     2                   0.0000          0.0000   \n",
       "8168                   0.6258     2                   0.0000          1.0000   \n",
       "3356                   0.0625     2                   0.0000          0.0000   \n",
       "2164                   0.1108     2                   0.0000          0.0000   \n",
       "\n",
       "      Stress Level  Sedentary Hours Per Day    BMI  Triglycerides  \\\n",
       "3145        7.0000                   0.5011 0.5198         0.9442   \n",
       "6897        2.0000                   0.0419 0.7812         0.3688   \n",
       "8168        7.0000                   0.4628 0.3429         0.6325   \n",
       "3356       10.0000                   0.1766 0.4699         0.4571   \n",
       "2164        8.0000                   0.8077 0.2744         0.0065   \n",
       "\n",
       "      Physical Activity Days Per Week  Sleep Hours Per Day  CK-MB  Troponin  \\\n",
       "3145                           0.0000               0.8333 0.0482    0.0365   \n",
       "6897                           0.0000               0.0000 0.0482    0.0365   \n",
       "8168                           5.0000               0.8333 0.0130    0.0097   \n",
       "3356                           4.0000               0.0000 0.0083    0.0002   \n",
       "2164                           6.0000               0.6667 0.1344    0.0962   \n",
       "\n",
       "      Systolic blood pressure  Diastolic blood pressure    id  \n",
       "3145                   0.6323                    0.5465  6496  \n",
       "6897                   0.5806                    0.3256  7621  \n",
       "8168                   0.7097                    0.3605  4846  \n",
       "3356                   0.7355                    0.4302  2397  \n",
       "2164                   0.6000                    0.5233   561  "
      ]
     },
     "execution_count": 14,
     "metadata": {},
     "output_type": "execute_result"
    }
   ],
   "source": [
    "X_train.head()"
   ]
  },
  {
   "cell_type": "code",
   "execution_count": 15,
   "id": "fcbbd580-b1b9-4e86-a7cf-0ca3bc5b9bef",
   "metadata": {},
   "outputs": [
    {
     "data": {
      "text/html": [
       "<div>\n",
       "<style scoped>\n",
       "    .dataframe tbody tr th:only-of-type {\n",
       "        vertical-align: middle;\n",
       "    }\n",
       "\n",
       "    .dataframe tbody tr th {\n",
       "        vertical-align: top;\n",
       "    }\n",
       "\n",
       "    .dataframe thead th {\n",
       "        text-align: right;\n",
       "    }\n",
       "</style>\n",
       "<table border=\"1\" class=\"dataframe\">\n",
       "  <thead>\n",
       "    <tr style=\"text-align: right;\">\n",
       "      <th></th>\n",
       "      <th>Unnamed: 0</th>\n",
       "      <th>Age</th>\n",
       "      <th>Cholesterol</th>\n",
       "      <th>Heart rate</th>\n",
       "      <th>Diabetes</th>\n",
       "      <th>Obesity</th>\n",
       "      <th>Exercise Hours Per Week</th>\n",
       "      <th>Diet</th>\n",
       "      <th>Previous Heart Problems</th>\n",
       "      <th>Medication Use</th>\n",
       "      <th>Stress Level</th>\n",
       "      <th>Sedentary Hours Per Day</th>\n",
       "      <th>BMI</th>\n",
       "      <th>Triglycerides</th>\n",
       "      <th>Physical Activity Days Per Week</th>\n",
       "      <th>Sleep Hours Per Day</th>\n",
       "      <th>CK-MB</th>\n",
       "      <th>Troponin</th>\n",
       "      <th>Systolic blood pressure</th>\n",
       "      <th>Diastolic blood pressure</th>\n",
       "      <th>id</th>\n",
       "    </tr>\n",
       "  </thead>\n",
       "  <tbody>\n",
       "    <tr>\n",
       "      <th>count</th>\n",
       "      <td>6513.0000</td>\n",
       "      <td>6513.0000</td>\n",
       "      <td>6513.0000</td>\n",
       "      <td>6513.0000</td>\n",
       "      <td>6325.0000</td>\n",
       "      <td>6325.0000</td>\n",
       "      <td>6513.0000</td>\n",
       "      <td>6513.0000</td>\n",
       "      <td>6325.0000</td>\n",
       "      <td>6325.0000</td>\n",
       "      <td>6325.0000</td>\n",
       "      <td>6513.0000</td>\n",
       "      <td>6513.0000</td>\n",
       "      <td>6513.0000</td>\n",
       "      <td>6325.0000</td>\n",
       "      <td>6513.0000</td>\n",
       "      <td>6513.0000</td>\n",
       "      <td>6513.0000</td>\n",
       "      <td>6513.0000</td>\n",
       "      <td>6513.0000</td>\n",
       "      <td>6513.0000</td>\n",
       "    </tr>\n",
       "    <tr>\n",
       "      <th>mean</th>\n",
       "      <td>4337.3163</td>\n",
       "      <td>0.4481</td>\n",
       "      <td>0.5009</td>\n",
       "      <td>0.0506</td>\n",
       "      <td>0.6496</td>\n",
       "      <td>0.4998</td>\n",
       "      <td>0.5003</td>\n",
       "      <td>1.0533</td>\n",
       "      <td>0.4949</td>\n",
       "      <td>0.5012</td>\n",
       "      <td>5.5061</td>\n",
       "      <td>0.4981</td>\n",
       "      <td>0.4978</td>\n",
       "      <td>0.5051</td>\n",
       "      <td>3.5179</td>\n",
       "      <td>0.5017</td>\n",
       "      <td>0.0479</td>\n",
       "      <td>0.0364</td>\n",
       "      <td>0.4497</td>\n",
       "      <td>0.4952</td>\n",
       "      <td>4825.3643</td>\n",
       "    </tr>\n",
       "    <tr>\n",
       "      <th>std</th>\n",
       "      <td>2508.5156</td>\n",
       "      <td>0.2310</td>\n",
       "      <td>0.2839</td>\n",
       "      <td>0.0219</td>\n",
       "      <td>0.4771</td>\n",
       "      <td>0.5000</td>\n",
       "      <td>0.2837</td>\n",
       "      <td>0.8645</td>\n",
       "      <td>0.5000</td>\n",
       "      <td>0.5000</td>\n",
       "      <td>2.8614</td>\n",
       "      <td>0.2848</td>\n",
       "      <td>0.2825</td>\n",
       "      <td>0.2852</td>\n",
       "      <td>2.2787</td>\n",
       "      <td>0.3284</td>\n",
       "      <td>0.0748</td>\n",
       "      <td>0.0599</td>\n",
       "      <td>0.1704</td>\n",
       "      <td>0.1717</td>\n",
       "      <td>2792.3941</td>\n",
       "    </tr>\n",
       "    <tr>\n",
       "      <th>min</th>\n",
       "      <td>0.0000</td>\n",
       "      <td>0.0000</td>\n",
       "      <td>0.0000</td>\n",
       "      <td>0.0147</td>\n",
       "      <td>0.0000</td>\n",
       "      <td>0.0000</td>\n",
       "      <td>0.0001</td>\n",
       "      <td>0.0000</td>\n",
       "      <td>0.0000</td>\n",
       "      <td>0.0000</td>\n",
       "      <td>1.0000</td>\n",
       "      <td>0.0000</td>\n",
       "      <td>0.0005</td>\n",
       "      <td>0.0000</td>\n",
       "      <td>0.0000</td>\n",
       "      <td>0.0000</td>\n",
       "      <td>0.0001</td>\n",
       "      <td>0.0000</td>\n",
       "      <td>0.0000</td>\n",
       "      <td>0.0000</td>\n",
       "      <td>1.0000</td>\n",
       "    </tr>\n",
       "    <tr>\n",
       "      <th>25%</th>\n",
       "      <td>2169.0000</td>\n",
       "      <td>0.2584</td>\n",
       "      <td>0.2679</td>\n",
       "      <td>0.0357</td>\n",
       "      <td>0.0000</td>\n",
       "      <td>0.0000</td>\n",
       "      <td>0.2600</td>\n",
       "      <td>0.0000</td>\n",
       "      <td>0.0000</td>\n",
       "      <td>0.0000</td>\n",
       "      <td>3.0000</td>\n",
       "      <td>0.2561</td>\n",
       "      <td>0.2561</td>\n",
       "      <td>0.2649</td>\n",
       "      <td>2.0000</td>\n",
       "      <td>0.1667</td>\n",
       "      <td>0.0482</td>\n",
       "      <td>0.0365</td>\n",
       "      <td>0.3032</td>\n",
       "      <td>0.3488</td>\n",
       "      <td>2408.0000</td>\n",
       "    </tr>\n",
       "    <tr>\n",
       "      <th>50%</th>\n",
       "      <td>4320.0000</td>\n",
       "      <td>0.4494</td>\n",
       "      <td>0.4998</td>\n",
       "      <td>0.0504</td>\n",
       "      <td>1.0000</td>\n",
       "      <td>0.0000</td>\n",
       "      <td>0.5021</td>\n",
       "      <td>1.0000</td>\n",
       "      <td>0.0000</td>\n",
       "      <td>1.0000</td>\n",
       "      <td>6.0000</td>\n",
       "      <td>0.4999</td>\n",
       "      <td>0.4948</td>\n",
       "      <td>0.5036</td>\n",
       "      <td>3.0000</td>\n",
       "      <td>0.5000</td>\n",
       "      <td>0.0482</td>\n",
       "      <td>0.0365</td>\n",
       "      <td>0.4452</td>\n",
       "      <td>0.4884</td>\n",
       "      <td>4821.0000</td>\n",
       "    </tr>\n",
       "    <tr>\n",
       "      <th>75%</th>\n",
       "      <td>6517.0000</td>\n",
       "      <td>0.6292</td>\n",
       "      <td>0.7429</td>\n",
       "      <td>0.0660</td>\n",
       "      <td>1.0000</td>\n",
       "      <td>1.0000</td>\n",
       "      <td>0.7421</td>\n",
       "      <td>2.0000</td>\n",
       "      <td>1.0000</td>\n",
       "      <td>1.0000</td>\n",
       "      <td>8.0000</td>\n",
       "      <td>0.7428</td>\n",
       "      <td>0.7398</td>\n",
       "      <td>0.7506</td>\n",
       "      <td>6.0000</td>\n",
       "      <td>0.8333</td>\n",
       "      <td>0.0482</td>\n",
       "      <td>0.0365</td>\n",
       "      <td>0.6000</td>\n",
       "      <td>0.6395</td>\n",
       "      <td>7266.0000</td>\n",
       "    </tr>\n",
       "    <tr>\n",
       "      <th>max</th>\n",
       "      <td>8684.0000</td>\n",
       "      <td>1.0000</td>\n",
       "      <td>1.0000</td>\n",
       "      <td>1.0000</td>\n",
       "      <td>1.0000</td>\n",
       "      <td>1.0000</td>\n",
       "      <td>1.0000</td>\n",
       "      <td>3.0000</td>\n",
       "      <td>1.0000</td>\n",
       "      <td>1.0000</td>\n",
       "      <td>10.0000</td>\n",
       "      <td>1.0000</td>\n",
       "      <td>1.0000</td>\n",
       "      <td>1.0000</td>\n",
       "      <td>7.0000</td>\n",
       "      <td>1.0000</td>\n",
       "      <td>1.0000</td>\n",
       "      <td>1.0000</td>\n",
       "      <td>0.9290</td>\n",
       "      <td>0.7907</td>\n",
       "      <td>9650.0000</td>\n",
       "    </tr>\n",
       "  </tbody>\n",
       "</table>\n",
       "</div>"
      ],
      "text/plain": [
       "       Unnamed: 0       Age  Cholesterol  Heart rate  Diabetes   Obesity  \\\n",
       "count   6513.0000 6513.0000    6513.0000   6513.0000 6325.0000 6325.0000   \n",
       "mean    4337.3163    0.4481       0.5009      0.0506    0.6496    0.4998   \n",
       "std     2508.5156    0.2310       0.2839      0.0219    0.4771    0.5000   \n",
       "min        0.0000    0.0000       0.0000      0.0147    0.0000    0.0000   \n",
       "25%     2169.0000    0.2584       0.2679      0.0357    0.0000    0.0000   \n",
       "50%     4320.0000    0.4494       0.4998      0.0504    1.0000    0.0000   \n",
       "75%     6517.0000    0.6292       0.7429      0.0660    1.0000    1.0000   \n",
       "max     8684.0000    1.0000       1.0000      1.0000    1.0000    1.0000   \n",
       "\n",
       "       Exercise Hours Per Week      Diet  Previous Heart Problems  \\\n",
       "count                6513.0000 6513.0000                6325.0000   \n",
       "mean                    0.5003    1.0533                   0.4949   \n",
       "std                     0.2837    0.8645                   0.5000   \n",
       "min                     0.0001    0.0000                   0.0000   \n",
       "25%                     0.2600    0.0000                   0.0000   \n",
       "50%                     0.5021    1.0000                   0.0000   \n",
       "75%                     0.7421    2.0000                   1.0000   \n",
       "max                     1.0000    3.0000                   1.0000   \n",
       "\n",
       "       Medication Use  Stress Level  Sedentary Hours Per Day       BMI  \\\n",
       "count       6325.0000     6325.0000                6513.0000 6513.0000   \n",
       "mean           0.5012        5.5061                   0.4981    0.4978   \n",
       "std            0.5000        2.8614                   0.2848    0.2825   \n",
       "min            0.0000        1.0000                   0.0000    0.0005   \n",
       "25%            0.0000        3.0000                   0.2561    0.2561   \n",
       "50%            1.0000        6.0000                   0.4999    0.4948   \n",
       "75%            1.0000        8.0000                   0.7428    0.7398   \n",
       "max            1.0000       10.0000                   1.0000    1.0000   \n",
       "\n",
       "       Triglycerides  Physical Activity Days Per Week  Sleep Hours Per Day  \\\n",
       "count      6513.0000                        6325.0000            6513.0000   \n",
       "mean          0.5051                           3.5179               0.5017   \n",
       "std           0.2852                           2.2787               0.3284   \n",
       "min           0.0000                           0.0000               0.0000   \n",
       "25%           0.2649                           2.0000               0.1667   \n",
       "50%           0.5036                           3.0000               0.5000   \n",
       "75%           0.7506                           6.0000               0.8333   \n",
       "max           1.0000                           7.0000               1.0000   \n",
       "\n",
       "          CK-MB  Troponin  Systolic blood pressure  Diastolic blood pressure  \\\n",
       "count 6513.0000 6513.0000                6513.0000                 6513.0000   \n",
       "mean     0.0479    0.0364                   0.4497                    0.4952   \n",
       "std      0.0748    0.0599                   0.1704                    0.1717   \n",
       "min      0.0001    0.0000                   0.0000                    0.0000   \n",
       "25%      0.0482    0.0365                   0.3032                    0.3488   \n",
       "50%      0.0482    0.0365                   0.4452                    0.4884   \n",
       "75%      0.0482    0.0365                   0.6000                    0.6395   \n",
       "max      1.0000    1.0000                   0.9290                    0.7907   \n",
       "\n",
       "             id  \n",
       "count 6513.0000  \n",
       "mean  4825.3643  \n",
       "std   2792.3941  \n",
       "min      1.0000  \n",
       "25%   2408.0000  \n",
       "50%   4821.0000  \n",
       "75%   7266.0000  \n",
       "max   9650.0000  "
      ]
     },
     "execution_count": 15,
     "metadata": {},
     "output_type": "execute_result"
    }
   ],
   "source": [
    "X_train.describe()"
   ]
  },
  {
   "cell_type": "code",
   "execution_count": 16,
   "id": "e34d74bf-0c60-4395-ae9c-d655c94f1029",
   "metadata": {},
   "outputs": [
    {
     "data": {
      "text/plain": [
       "{'Age',\n",
       " 'BMI',\n",
       " 'CK-MB',\n",
       " 'Cholesterol',\n",
       " 'Diabetes',\n",
       " 'Diastolic blood pressure',\n",
       " 'Diet',\n",
       " 'Exercise Hours Per Week',\n",
       " 'Heart rate',\n",
       " 'Medication Use',\n",
       " 'Obesity',\n",
       " 'Physical Activity Days Per Week',\n",
       " 'Previous Heart Problems',\n",
       " 'Sedentary Hours Per Day',\n",
       " 'Sleep Hours Per Day',\n",
       " 'Stress Level',\n",
       " 'Systolic blood pressure',\n",
       " 'Triglycerides',\n",
       " 'Troponin',\n",
       " 'Unnamed: 0',\n",
       " 'id'}"
      ]
     },
     "execution_count": 16,
     "metadata": {},
     "output_type": "execute_result"
    }
   ],
   "source": [
    "set(X_train)"
   ]
  },
  {
   "cell_type": "code",
   "execution_count": null,
   "id": "e2daa4df-dcfc-48b1-a4c5-26e6b765e440",
   "metadata": {},
   "outputs": [],
   "source": [
    "to_scale = ['CK-MB', 'Troponin']\n",
    "\n",
    "num_features = ['Age','BMI','Cholesterol','Diastolic blood pressure','Exercise Hours Per Week','Heart rate','Physical Activity Days Per Week','Sedentary Hours Per Day','Sleep Hours Per Day', 'Systolic blood pressure','Triglycerides']\n",
    "\n",
    "#ohe_features = ['Diabetes','Diet','Medication Use','Obesity']\n",
    "\n",
    "ordinal_features = ['Stress Level']\n",
    "\n",
    "\n",
    "\n",
    "# Подскейлим только to_scale\n",
    "to_scale_transformer = Pipeline([\n",
    "    ('imputer', SimpleImputer(strategy='mean')),\n",
    "    ('scaler', RobustScaler())\n",
    "])\n",
    "\n",
    "# Кодируем порядковые признаки\n",
    "ordinal_transformer = Pipeline([\n",
    "    ('imputer', SimpleImputer(strategy='most_frequent')),\n",
    "    ('encoder', OrdinalEncoder(handle_unknown='use_encoded_value', unknown_value=-1))\n",
    "])\n",
    "\n",
    "# # Кодируем категориальные (номинальные) признаки\n",
    "# ohe_transformer = Pipeline([\n",
    "#     ('imputer', SimpleImputer(strategy='most_frequent')),\n",
    "#     ('encoder', OneHotEncoder(handle_unknown='ignore', sparse_output=False))\n",
    "# ])\n",
    "\n",
    "# ColumnTransformer\n",
    "data_preprocessor = ColumnTransformer([\n",
    "    ('scaled', to_scale_transformer, to_scale),\n",
    "    ('ordinal', ordinal_transformer, ordinal_features),\n",
    "   # ('ohe', ohe_transformer, ohe_features),\n",
    "    ('passthrough', 'passthrough', num_features)  # передаём уже отмасштабированные числовые как есть\n",
    "])\n",
    "\n",
    "\n",
    "\n",
    "# Финальный пайплайн\n",
    "pipe = Pipeline([\n",
    "    ('preprocessor', data_preprocessor),\n",
    "    ('model', CatBoostClassifier(verbose=0, random_state=RANDOM_STATE))\n",
    "])\n"
   ]
  },
  {
   "cell_type": "code",
   "execution_count": null,
   "id": "8eda7721-f8d5-4a92-928e-0da81b328171",
   "metadata": {},
   "outputs": [],
   "source": [
    "scoring = make_scorer(roc_auc_score)\n",
    "\n",
    "param_grid = {\n",
    "\n",
    "    'model__class_weights' : [[1, 1.2]],\n",
    "    'model__l2_leaf_reg' : [7,14],\n",
    "    'model__depth' : [2,6,8],\n",
    "    'model__learning_rate' : [0.01],\n",
    "    'model__random_strength' : [0,2,5],\n",
    "    'model__bagging_temperature': [1,5,10]\n",
    "}\n",
    "\n",
    "\n",
    "\n",
    "r_search = RandomizedSearchCV(\n",
    "pipe,\n",
    "param_distributions=param_grid,\n",
    "n_iter=3,\n",
    "scoring=scoring,\n",
    "refit=True,\n",
    "verbose=3,\n",
    "cv=10,\n",
    "random_state=RANDOM_STATE,\n",
    "n_jobs=-1)"
   ]
  },
  {
   "cell_type": "code",
   "execution_count": null,
   "id": "12fcdc2a-315e-4c2f-9933-2be5fa4c1bf6",
   "metadata": {
    "scrolled": true
   },
   "outputs": [],
   "source": [
    "%%time\n",
    "# Обучение\n",
    "r_search.fit(X_res, y_res)"
   ]
  },
  {
   "cell_type": "code",
   "execution_count": null,
   "id": "dbf8f398-4803-464e-b123-2bbc703d9d17",
   "metadata": {
    "scrolled": true
   },
   "outputs": [],
   "source": [
    "y_proba = r_search.predict_proba(X_test)[:,1]\n",
    "y_pred = r_search.predict(X_test)"
   ]
  },
  {
   "cell_type": "code",
   "execution_count": null,
   "id": "70f95f86-e4f8-4da1-a106-6420c01c926b",
   "metadata": {},
   "outputs": [],
   "source": [
    "best_model = r_search.best_estimator_.named_steps['model']"
   ]
  },
  {
   "cell_type": "code",
   "execution_count": null,
   "id": "8f855e13-bad1-40dc-ae75-1828905f9820",
   "metadata": {},
   "outputs": [],
   "source": [
    "print(\"Лучшая модель:\\n\", best_model)\n",
    "print(\"Лучший результат:\", round(r_search.best_score_, 4))\n",
    "print()\n",
    "print('recall', recall_score(y_test,y_pred))\n",
    "print()\n",
    "print('f1', f1_score(y_test,y_pred))\n",
    "print()\n",
    "print('roc_auc', roc_auc_score(y_test, y_proba))"
   ]
  },
  {
   "cell_type": "code",
   "execution_count": null,
   "id": "01d44b92-5a88-40fe-975a-8bd0f8f64207",
   "metadata": {},
   "outputs": [],
   "source": [
    "print(classification_report(y_test, y_pred))"
   ]
  },
  {
   "cell_type": "code",
   "execution_count": null,
   "id": "6e9f3824-49a3-4455-82b4-f718848c8bd3",
   "metadata": {},
   "outputs": [],
   "source": [
    "cm =confusion_matrix(y_test,  y_pred)\n",
    "sns.heatmap(cm, annot=True, fmt='.2f')\n",
    "plt.ylabel('true values')\n",
    "plt.xlabel('pred values');"
   ]
  },
  {
   "cell_type": "code",
   "execution_count": null,
   "id": "7cb08368-c2ab-43b0-94fa-6a203af4f0f2",
   "metadata": {},
   "outputs": [],
   "source": [
    "df_test = prepare_df(df_test)"
   ]
  },
  {
   "cell_type": "code",
   "execution_count": null,
   "id": "d5dae6fb-5937-4155-a929-b50c0e83ae98",
   "metadata": {},
   "outputs": [],
   "source": [
    "test = r_search.best_estimator_.predict(df_test)\n"
   ]
  },
  {
   "cell_type": "code",
   "execution_count": null,
   "id": "a17a55d1-6357-44ce-a249-cd93188d1630",
   "metadata": {},
   "outputs": [],
   "source": [
    "y_proba_2 = r_search.best_estimator_.predict_proba(df_test)[:, 1]\n"
   ]
  },
  {
   "cell_type": "code",
   "execution_count": null,
   "id": "9d32463a-cb55-417a-a31a-3c353af9d685",
   "metadata": {},
   "outputs": [],
   "source": [
    "predictions =  r_search.best_estimator_.predict(df_test)"
   ]
  },
  {
   "cell_type": "code",
   "execution_count": null,
   "id": "220637f0-d0ff-452b-aa84-1d92758ea40f",
   "metadata": {},
   "outputs": [],
   "source": [
    "sns.kdeplot(y_proba_2, label='предсказания на тестовом дф')\n",
    "sns.kdeplot(y_proba, label='предсказания на тренировочном дф')\n",
    "plt.legend()\n",
    "plt.tight_layout()"
   ]
  },
  {
   "cell_type": "code",
   "execution_count": null,
   "id": "92d37a3b-382b-4b06-87aa-134c7c9d8334",
   "metadata": {},
   "outputs": [],
   "source": [
    "import shap\n",
    "\n",
    "# 1. Извлекаем лучший пайплайн и модель из него\n",
    "best_pipe = r_search.best_estimator_\n",
    "model = best_pipe.named_steps['model']\n",
    "preprocessor = best_pipe.named_steps['preprocessor']\n",
    "\n",
    "# 2. Преобразуем X_test\n",
    "X_test_transformed = preprocessor.transform(X_test)\n",
    "\n",
    "# 3. Получаем имена признаков после трансформации\n",
    "feature_names = preprocessor.get_feature_names_out()\n",
    "\n",
    "# 4. Создаём explainer\n",
    "explainer = shap.TreeExplainer(model)\n",
    "\n",
    "# 5. Вычисляем SHAP values\n",
    "shap_values = explainer.shap_values(X_test_transformed)\n",
    "\n",
    "# 6. Для бинарной классификации берём только класс 1\n",
    "if isinstance(shap_values, list):\n",
    "    shap_values = shap_values[1]\n",
    "\n",
    "# 7. Отрисовываем summary plot\n",
    "shap.summary_plot(shap_values, X_test_transformed, feature_names=feature_names)\n",
    "\n"
   ]
  },
  {
   "cell_type": "code",
   "execution_count": null,
   "id": "72c882b7-205d-4822-9bb7-e9dc0a5f73f3",
   "metadata": {},
   "outputs": [],
   "source": [
    "# 1. Получаем имена признаков после трансформации\n",
    "feature_names = r_search.best_estimator_.named_steps['preprocessor'].get_feature_names_out()\n",
    "\n",
    "# 2. Создаём новый SHAP Explainer с feature_names\n",
    "explainer = shap.Explainer(model, X_test_transformed, feature_names=feature_names)\n",
    "\n",
    "# 3. Получаем shap values\n",
    "shap_values = explainer(X_test_transformed)\n",
    "\n",
    "# 4. Строим bar plot с нормальными названиями\n",
    "shap.plots.bar(shap_values)\n",
    "\n"
   ]
  },
  {
   "cell_type": "markdown",
   "id": "9c7a1d8e-9ffa-4bf5-9aeb-1dbfc1e9eb3a",
   "metadata": {},
   "source": [
    "import joblib\n",
    "\n",
    "# Сохраняем модель\n",
    "joblib.dump(model, 'model.pkl')\n",
    "\n",
    "# Загружаем модель позже\n",
    "loaded_model = joblib.load('model.pkl')\n"
   ]
  },
  {
   "cell_type": "code",
   "execution_count": null,
   "id": "0aa0c406-5893-45d8-a06c-cd33c7d9669e",
   "metadata": {
    "scrolled": true
   },
   "outputs": [],
   "source": [
    "pip install optuna"
   ]
  },
  {
   "cell_type": "code",
   "execution_count": null,
   "id": "10122f5f-e4b8-46e1-b7d7-222bbb0ab9f6",
   "metadata": {
    "scrolled": true
   },
   "outputs": [],
   "source": [
    "import optuna\n",
    "from catboost import CatBoostClassifier\n",
    "from sklearn.model_selection import cross_val_score\n",
    "from sklearn.pipeline import Pipeline\n",
    "from sklearn.metrics import f1_score, make_scorer\n",
    "\n",
    "\n",
    "def objective(trial):\n",
    "    params = {\n",
    "        \"iterations\": trial.suggest_int(\"iterations\", 300, 1500),\n",
    "        \"depth\": trial.suggest_int(\"depth\", 4, 10),\n",
    "        \"learning_rate\": trial.suggest_float(\"learning_rate\", 0.01, 0.3),\n",
    "        \"l2_leaf_reg\": trial.suggest_int(\"l2_leaf_reg\", 1, 10),\n",
    "        \"random_strength\": trial.suggest_float(\"random_strength\", 0, 10),\n",
    "        \"bagging_temperature\": trial.suggest_float(\"bagging_temperature\", 0, 1),\n",
    "        \"border_count\": trial.suggest_int(\"border_count\", 32, 128),\n",
    "        \"grow_policy\": trial.suggest_categorical(\"grow_policy\", [\"Depthwise\", \"SymmetricTree\"]),\n",
    "        \"class_weights\": trial.suggest_categorical(\"class_weights\", [[1.0, 1.0], [1.0, 1.5], [1.0, 2.0]]),\n",
    "        \"verbose\": 0,\n",
    "        \"random_state\": 42\n",
    "    }\n",
    "\n",
    "    model = CatBoostClassifier(**params)\n",
    "    score = cross_val_score(model, X_train, y_train, cv=3, scoring=make_scorer(f1_score)).mean()\n",
    "    return score\n",
    "\n",
    "\n",
    "study = optuna.create_study(direction=\"maximize\")  # f1 нужно максимизировать\n",
    "study.optimize(objective, n_trials=50)\n",
    "\n",
    "\n",
    "print(\"Лучшие параметры:\", study.best_params)\n"
   ]
  },
  {
   "cell_type": "code",
   "execution_count": null,
   "id": "91ce3f87-4880-4db2-932d-2ff509c2c0ea",
   "metadata": {},
   "outputs": [],
   "source": [
    "study.best_params"
   ]
  },
  {
   "cell_type": "code",
   "execution_count": null,
   "id": "1a2dcdf5-bfc3-47df-b536-2b19e74d22b6",
   "metadata": {},
   "outputs": [],
   "source": []
  },
  {
   "cell_type": "code",
   "execution_count": null,
   "id": "f7450bb4-5c66-497b-afbb-34f465f45404",
   "metadata": {},
   "outputs": [],
   "source": []
  },
  {
   "cell_type": "code",
   "execution_count": null,
   "id": "24875a05-0f66-498e-9420-0ef2e7f86433",
   "metadata": {},
   "outputs": [],
   "source": []
  },
  {
   "cell_type": "code",
   "execution_count": null,
   "id": "c8232f9f-a746-4e0b-9454-7ec95b8cd4b3",
   "metadata": {},
   "outputs": [],
   "source": []
  },
  {
   "cell_type": "code",
   "execution_count": null,
   "id": "c1e6f841-0038-488f-bfef-5645c9556ebb",
   "metadata": {},
   "outputs": [],
   "source": []
  },
  {
   "cell_type": "code",
   "execution_count": null,
   "id": "e8210a03-b826-4300-9e36-a4a54e814e52",
   "metadata": {},
   "outputs": [],
   "source": []
  },
  {
   "cell_type": "code",
   "execution_count": null,
   "id": "f71244b7-64b5-47b8-9d44-2f79aed28bf3",
   "metadata": {},
   "outputs": [],
   "source": []
  },
  {
   "cell_type": "code",
   "execution_count": null,
   "id": "a294dd71-e994-46ef-ac61-045a1b8740b6",
   "metadata": {},
   "outputs": [],
   "source": []
  },
  {
   "cell_type": "code",
   "execution_count": null,
   "id": "478cbbfa-3215-49e3-aaa4-53797404a695",
   "metadata": {},
   "outputs": [],
   "source": []
  },
  {
   "cell_type": "code",
   "execution_count": null,
   "id": "fe7a9564-3bb7-42d1-98a6-79d2cf950090",
   "metadata": {},
   "outputs": [],
   "source": []
  }
 ],
 "metadata": {
  "kernelspec": {
   "display_name": "Python 3 (ipykernel)",
   "language": "python",
   "name": "python3"
  },
  "language_info": {
   "codemirror_mode": {
    "name": "ipython",
    "version": 3
   },
   "file_extension": ".py",
   "mimetype": "text/x-python",
   "name": "python",
   "nbconvert_exporter": "python",
   "pygments_lexer": "ipython3",
   "version": "3.12.8"
  }
 },
 "nbformat": 4,
 "nbformat_minor": 5
}
